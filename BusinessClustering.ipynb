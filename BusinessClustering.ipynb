{
 "cells": [
  {
   "cell_type": "code",
   "execution_count": 12,
   "metadata": {
    "collapsed": true
   },
   "outputs": [],
   "source": [
    "%matplotlib inline"
   ]
  },
  {
   "cell_type": "code",
   "execution_count": 3,
   "metadata": {
    "collapsed": false
   },
   "outputs": [],
   "source": [
    "import numpy as np\n",
    "import matplotlib.pyplot as plt"
   ]
  },
  {
   "cell_type": "code",
   "execution_count": 55,
   "metadata": {
    "collapsed": false,
    "scrolled": true
   },
   "outputs": [
    {
     "ename": "ImportError",
     "evalue": "No module named basemap",
     "output_type": "error",
     "traceback": [
      "\u001b[0;31m---------------------------------------------------------------------------\u001b[0m",
      "\u001b[0;31mImportError\u001b[0m                               Traceback (most recent call last)",
      "\u001b[0;32m<ipython-input-55-5e6824321d57>\u001b[0m in \u001b[0;36m<module>\u001b[0;34m()\u001b[0m\n\u001b[0;32m----> 1\u001b[0;31m \u001b[0;32mfrom\u001b[0m \u001b[0mmpl_toolkits\u001b[0m\u001b[0;34m.\u001b[0m\u001b[0mbasemap\u001b[0m \u001b[0;32mimport\u001b[0m \u001b[0mBasemap\u001b[0m\u001b[0;34m\u001b[0m\u001b[0m\n\u001b[0m",
      "\u001b[0;31mImportError\u001b[0m: No module named basemap"
     ]
    }
   ],
   "source": [
    "from mpl_toolkits.basemap import Basemap"
   ]
  },
  {
   "cell_type": "code",
   "execution_count": 5,
   "metadata": {
    "collapsed": true
   },
   "outputs": [],
   "source": [
    "import sklearn"
   ]
  },
  {
   "cell_type": "code",
   "execution_count": 4,
   "metadata": {
    "collapsed": false
   },
   "outputs": [],
   "source": [
    "from sklearn.cluster import k_means"
   ]
  },
  {
   "cell_type": "code",
   "execution_count": 5,
   "metadata": {
    "collapsed": true
   },
   "outputs": [],
   "source": [
    "import json"
   ]
  },
  {
   "cell_type": "code",
   "execution_count": 7,
   "metadata": {
    "collapsed": true
   },
   "outputs": [],
   "source": [
    "import pandas as pd"
   ]
  },
  {
   "cell_type": "code",
   "execution_count": 8,
   "metadata": {
    "collapsed": true
   },
   "outputs": [],
   "source": [
    "# from Patrick's notebook\n",
    "BUSINESSES = \"../yelp_dataset_challenge_academic_dataset/yelp_academic_dataset_business.json\""
   ]
  },
  {
   "cell_type": "code",
   "execution_count": 9,
   "metadata": {
    "collapsed": true
   },
   "outputs": [],
   "source": [
    "COLS_TO_READ = ['state', 'longitude', 'latitude', 'name', 'stars']"
   ]
  },
  {
   "cell_type": "code",
   "execution_count": 12,
   "metadata": {
    "collapsed": true
   },
   "outputs": [],
   "source": [
    "ff = open(BUSINESSES)\n",
    "results = []\n",
    "dfs = []\n",
    "categories = set()\n",
    "for line in ff.xreadlines():\n",
    "    result = json.loads(line)\n",
    "    if (result['state'] == 'QC'):# and ('Restaurants' in result['categories']):\n",
    "        dfs.append(pd.DataFrame(result, columns=COLS_TO_READ, index=pd.Index([result['business_id']])))\n",
    "df = pd.concat(dfs)\n",
    "del dfs\n",
    "\n",
    "# Set index name to \"business_id\"\n",
    "df.index.name = 'business_id'"
   ]
  },
  {
   "cell_type": "code",
   "execution_count": 14,
   "metadata": {
    "collapsed": false
   },
   "outputs": [
    {
     "data": {
      "text/plain": [
       "Index([u'state', u'longitude', u'latitude', u'name', u'stars'], dtype='object')"
      ]
     },
     "execution_count": 14,
     "metadata": {},
     "output_type": "execute_result"
    }
   ],
   "source": [
    "df.columns"
   ]
  },
  {
   "cell_type": "code",
   "execution_count": 17,
   "metadata": {
    "collapsed": false
   },
   "outputs": [
    {
     "data": {
      "text/html": [
       "<div>\n",
       "<table border=\"1\" class=\"dataframe\">\n",
       "  <thead>\n",
       "    <tr style=\"text-align: right;\">\n",
       "      <th></th>\n",
       "      <th>state</th>\n",
       "      <th>longitude</th>\n",
       "      <th>latitude</th>\n",
       "      <th>name</th>\n",
       "      <th>stars</th>\n",
       "    </tr>\n",
       "    <tr>\n",
       "      <th>business_id</th>\n",
       "      <th></th>\n",
       "      <th></th>\n",
       "      <th></th>\n",
       "      <th></th>\n",
       "      <th></th>\n",
       "    </tr>\n",
       "  </thead>\n",
       "  <tbody>\n",
       "    <tr>\n",
       "      <th>lW9Up8oVTWUEut_R6nZG-g</th>\n",
       "      <td>QC</td>\n",
       "      <td>-73.544570</td>\n",
       "      <td>45.545073</td>\n",
       "      <td>Atomic Café</td>\n",
       "      <td>4.0</td>\n",
       "    </tr>\n",
       "    <tr>\n",
       "      <th>rWmYk-i8EF-g07KnVkdlqQ</th>\n",
       "      <td>QC</td>\n",
       "      <td>-73.542120</td>\n",
       "      <td>45.561749</td>\n",
       "      <td>Restaurant Les Princesses</td>\n",
       "      <td>2.5</td>\n",
       "    </tr>\n",
       "    <tr>\n",
       "      <th>RZma06CqXbOIMzTQL-eJFQ</th>\n",
       "      <td>QC</td>\n",
       "      <td>-73.635581</td>\n",
       "      <td>45.589137</td>\n",
       "      <td>La Cage Aux Sports</td>\n",
       "      <td>2.0</td>\n",
       "    </tr>\n",
       "    <tr>\n",
       "      <th>GxfgoiDLfs7HC8C_wFsGPw</th>\n",
       "      <td>QC</td>\n",
       "      <td>-73.574577</td>\n",
       "      <td>45.548671</td>\n",
       "      <td>Boulangerie Première Moisson</td>\n",
       "      <td>4.5</td>\n",
       "    </tr>\n",
       "    <tr>\n",
       "      <th>e1_MTuBa4LTN1E2RKh53Xg</th>\n",
       "      <td>QC</td>\n",
       "      <td>-73.585389</td>\n",
       "      <td>45.555818</td>\n",
       "      <td>Zytynsky's Deli</td>\n",
       "      <td>4.5</td>\n",
       "    </tr>\n",
       "  </tbody>\n",
       "</table>\n",
       "</div>"
      ],
      "text/plain": [
       "                       state  longitude   latitude  \\\n",
       "business_id                                          \n",
       "lW9Up8oVTWUEut_R6nZG-g    QC -73.544570  45.545073   \n",
       "rWmYk-i8EF-g07KnVkdlqQ    QC -73.542120  45.561749   \n",
       "RZma06CqXbOIMzTQL-eJFQ    QC -73.635581  45.589137   \n",
       "GxfgoiDLfs7HC8C_wFsGPw    QC -73.574577  45.548671   \n",
       "e1_MTuBa4LTN1E2RKh53Xg    QC -73.585389  45.555818   \n",
       "\n",
       "                                                name  stars  \n",
       "business_id                                                  \n",
       "lW9Up8oVTWUEut_R6nZG-g                   Atomic Café    4.0  \n",
       "rWmYk-i8EF-g07KnVkdlqQ     Restaurant Les Princesses    2.5  \n",
       "RZma06CqXbOIMzTQL-eJFQ            La Cage Aux Sports    2.0  \n",
       "GxfgoiDLfs7HC8C_wFsGPw  Boulangerie Première Moisson    4.5  \n",
       "e1_MTuBa4LTN1E2RKh53Xg               Zytynsky's Deli    4.5  "
      ]
     },
     "execution_count": 17,
     "metadata": {},
     "output_type": "execute_result"
    }
   ],
   "source": [
    "df.head()"
   ]
  },
  {
   "cell_type": "code",
   "execution_count": 26,
   "metadata": {
    "collapsed": false,
    "scrolled": true
   },
   "outputs": [
    {
     "data": {
      "text/html": [
       "<div>\n",
       "<table border=\"1\" class=\"dataframe\">\n",
       "  <thead>\n",
       "    <tr style=\"text-align: right;\">\n",
       "      <th></th>\n",
       "      <th>longitude</th>\n",
       "      <th>latitude</th>\n",
       "    </tr>\n",
       "    <tr>\n",
       "      <th>business_id</th>\n",
       "      <th></th>\n",
       "      <th></th>\n",
       "    </tr>\n",
       "  </thead>\n",
       "  <tbody>\n",
       "    <tr>\n",
       "      <th>lW9Up8oVTWUEut_R6nZG-g</th>\n",
       "      <td>-73.544570</td>\n",
       "      <td>45.545073</td>\n",
       "    </tr>\n",
       "    <tr>\n",
       "      <th>rWmYk-i8EF-g07KnVkdlqQ</th>\n",
       "      <td>-73.542120</td>\n",
       "      <td>45.561749</td>\n",
       "    </tr>\n",
       "    <tr>\n",
       "      <th>RZma06CqXbOIMzTQL-eJFQ</th>\n",
       "      <td>-73.635581</td>\n",
       "      <td>45.589137</td>\n",
       "    </tr>\n",
       "    <tr>\n",
       "      <th>GxfgoiDLfs7HC8C_wFsGPw</th>\n",
       "      <td>-73.574577</td>\n",
       "      <td>45.548671</td>\n",
       "    </tr>\n",
       "    <tr>\n",
       "      <th>e1_MTuBa4LTN1E2RKh53Xg</th>\n",
       "      <td>-73.585389</td>\n",
       "      <td>45.555818</td>\n",
       "    </tr>\n",
       "    <tr>\n",
       "      <th>yLj-pKIc-V530j1G6ySQ2Q</th>\n",
       "      <td>-73.552666</td>\n",
       "      <td>45.567943</td>\n",
       "    </tr>\n",
       "    <tr>\n",
       "      <th>IY5GFZTZCywC0ylKuG9ebA</th>\n",
       "      <td>-73.559333</td>\n",
       "      <td>45.540425</td>\n",
       "    </tr>\n",
       "    <tr>\n",
       "      <th>g8Ja8BKskzmWHX9VH7B2yg</th>\n",
       "      <td>-73.566166</td>\n",
       "      <td>45.551943</td>\n",
       "    </tr>\n",
       "    <tr>\n",
       "      <th>Env21pieyFD60kaC0xbmcg</th>\n",
       "      <td>-73.542183</td>\n",
       "      <td>45.584279</td>\n",
       "    </tr>\n",
       "    <tr>\n",
       "      <th>RySnetMQUJKbbtliTt4Nmw</th>\n",
       "      <td>-73.549722</td>\n",
       "      <td>45.559632</td>\n",
       "    </tr>\n",
       "    <tr>\n",
       "      <th>IYdjcA92wjvM5RtPZ3C7kw</th>\n",
       "      <td>-73.559822</td>\n",
       "      <td>45.600332</td>\n",
       "    </tr>\n",
       "    <tr>\n",
       "      <th>pvbBfLIVJ_5sJXUTAKmkng</th>\n",
       "      <td>-73.571050</td>\n",
       "      <td>45.591208</td>\n",
       "    </tr>\n",
       "    <tr>\n",
       "      <th>A9yOopsy2bQgStF3Y6lSyA</th>\n",
       "      <td>-73.539624</td>\n",
       "      <td>45.552822</td>\n",
       "    </tr>\n",
       "    <tr>\n",
       "      <th>dvXKsHW_WIdRbbE_Jsxx3A</th>\n",
       "      <td>-73.548181</td>\n",
       "      <td>45.561379</td>\n",
       "    </tr>\n",
       "    <tr>\n",
       "      <th>JqlT41fOvgMQnbL_ZhLtZw</th>\n",
       "      <td>-73.563716</td>\n",
       "      <td>45.542159</td>\n",
       "    </tr>\n",
       "    <tr>\n",
       "      <th>lj9PHKl7wKvQTHgFc08E-Q</th>\n",
       "      <td>-73.530523</td>\n",
       "      <td>45.603934</td>\n",
       "    </tr>\n",
       "    <tr>\n",
       "      <th>FefB0Lp2Sz0RMZvtgbiuMw</th>\n",
       "      <td>-73.611107</td>\n",
       "      <td>45.598198</td>\n",
       "    </tr>\n",
       "    <tr>\n",
       "      <th>Hn9aFjT-Up_0AJ8ZuIWTBA</th>\n",
       "      <td>-73.591053</td>\n",
       "      <td>45.549392</td>\n",
       "    </tr>\n",
       "    <tr>\n",
       "      <th>gas4eqbnp_dzdA3kith5XA</th>\n",
       "      <td>-73.549423</td>\n",
       "      <td>45.572766</td>\n",
       "    </tr>\n",
       "    <tr>\n",
       "      <th>Ra8dwM6dGUQszCXiUDPf2A</th>\n",
       "      <td>-73.580856</td>\n",
       "      <td>45.595709</td>\n",
       "    </tr>\n",
       "    <tr>\n",
       "      <th>FRoFkp1YGqziKAk5HAj55w</th>\n",
       "      <td>-73.614669</td>\n",
       "      <td>45.560849</td>\n",
       "    </tr>\n",
       "    <tr>\n",
       "      <th>dIcc2Z7m-JcHHLxwCuyfug</th>\n",
       "      <td>-73.594176</td>\n",
       "      <td>45.617234</td>\n",
       "    </tr>\n",
       "    <tr>\n",
       "      <th>fNlndRtXwA270PSmPKnXfQ</th>\n",
       "      <td>-73.550291</td>\n",
       "      <td>45.562381</td>\n",
       "    </tr>\n",
       "    <tr>\n",
       "      <th>kPFS2EnXDFcddYslkaMqKw</th>\n",
       "      <td>-73.561930</td>\n",
       "      <td>45.541350</td>\n",
       "    </tr>\n",
       "    <tr>\n",
       "      <th>6MSbS90XvNHz8-rUWIg1gA</th>\n",
       "      <td>-73.620169</td>\n",
       "      <td>45.557235</td>\n",
       "    </tr>\n",
       "    <tr>\n",
       "      <th>N-m3nClpkmdmOlQfQKpyIA</th>\n",
       "      <td>-73.570672</td>\n",
       "      <td>45.555505</td>\n",
       "    </tr>\n",
       "    <tr>\n",
       "      <th>z5Hd_UOjwiSEGPmOFlSCJw</th>\n",
       "      <td>-73.596630</td>\n",
       "      <td>45.579058</td>\n",
       "    </tr>\n",
       "    <tr>\n",
       "      <th>Oqr5zMLM2H7kJCbdc6A8Yg</th>\n",
       "      <td>-73.572875</td>\n",
       "      <td>45.557148</td>\n",
       "    </tr>\n",
       "    <tr>\n",
       "      <th>H36YxCHOChB1ptvFG4mBgA</th>\n",
       "      <td>-73.609929</td>\n",
       "      <td>45.599547</td>\n",
       "    </tr>\n",
       "    <tr>\n",
       "      <th>fviB5hGwm6phgpkFqD80wA</th>\n",
       "      <td>-73.574366</td>\n",
       "      <td>45.594302</td>\n",
       "    </tr>\n",
       "    <tr>\n",
       "      <th>...</th>\n",
       "      <td>...</td>\n",
       "      <td>...</td>\n",
       "    </tr>\n",
       "    <tr>\n",
       "      <th>g_QywoAtFtZPMdgqfUIC4A</th>\n",
       "      <td>-73.588312</td>\n",
       "      <td>45.473364</td>\n",
       "    </tr>\n",
       "    <tr>\n",
       "      <th>7hPfQAtOrbM0Xzj9hl2wfQ</th>\n",
       "      <td>-73.601329</td>\n",
       "      <td>45.522009</td>\n",
       "    </tr>\n",
       "    <tr>\n",
       "      <th>ffatJsKYCo3uV3osf2MEjQ</th>\n",
       "      <td>-73.760238</td>\n",
       "      <td>45.571415</td>\n",
       "    </tr>\n",
       "    <tr>\n",
       "      <th>OCJnXyn2pYgt_EOHbVo_AA</th>\n",
       "      <td>-73.567118</td>\n",
       "      <td>45.487198</td>\n",
       "    </tr>\n",
       "    <tr>\n",
       "      <th>X1YKyBrHXGXAZ_xZCLcpeQ</th>\n",
       "      <td>-73.828993</td>\n",
       "      <td>45.468382</td>\n",
       "    </tr>\n",
       "    <tr>\n",
       "      <th>vmFktEQkPfujRjNRRuA8Gw</th>\n",
       "      <td>-73.583484</td>\n",
       "      <td>45.523314</td>\n",
       "    </tr>\n",
       "    <tr>\n",
       "      <th>GDTFiF59PtgvABVtAxnGGg</th>\n",
       "      <td>-73.626692</td>\n",
       "      <td>45.471198</td>\n",
       "    </tr>\n",
       "    <tr>\n",
       "      <th>oOuXQgnMTUOUZVnT503cDQ</th>\n",
       "      <td>-73.568708</td>\n",
       "      <td>45.504341</td>\n",
       "    </tr>\n",
       "    <tr>\n",
       "      <th>bC79Tt7wcymEzkfukFIDog</th>\n",
       "      <td>-73.494613</td>\n",
       "      <td>45.500248</td>\n",
       "    </tr>\n",
       "    <tr>\n",
       "      <th>7FCdBwv18UZqNwcuuInSgA</th>\n",
       "      <td>-73.601015</td>\n",
       "      <td>45.535347</td>\n",
       "    </tr>\n",
       "    <tr>\n",
       "      <th>_2SV0T9wUI2YK4rEfeLhMg</th>\n",
       "      <td>-73.571842</td>\n",
       "      <td>45.514486</td>\n",
       "    </tr>\n",
       "    <tr>\n",
       "      <th>M1P6w_TmsP7KVTcbEyAdGw</th>\n",
       "      <td>-73.569591</td>\n",
       "      <td>45.538337</td>\n",
       "    </tr>\n",
       "    <tr>\n",
       "      <th>BG1gRITqMu5k7zMrdI70Tw</th>\n",
       "      <td>-73.648674</td>\n",
       "      <td>45.443447</td>\n",
       "    </tr>\n",
       "    <tr>\n",
       "      <th>1mgQIFFGeUc15_xk2mQDrw</th>\n",
       "      <td>-73.772821</td>\n",
       "      <td>45.561102</td>\n",
       "    </tr>\n",
       "    <tr>\n",
       "      <th>xkmgV0fRlAUQRLskqSgM9A</th>\n",
       "      <td>-73.753714</td>\n",
       "      <td>45.545974</td>\n",
       "    </tr>\n",
       "    <tr>\n",
       "      <th>SixCP_nHQlD2hnwQ5P7_Ew</th>\n",
       "      <td>-73.573039</td>\n",
       "      <td>45.518863</td>\n",
       "    </tr>\n",
       "    <tr>\n",
       "      <th>AIysRggUDSL7BB6CTQ07OQ</th>\n",
       "      <td>-73.580200</td>\n",
       "      <td>45.479933</td>\n",
       "    </tr>\n",
       "    <tr>\n",
       "      <th>SLYaf9zEiez27OkUB1GWHg</th>\n",
       "      <td>-73.594333</td>\n",
       "      <td>45.523876</td>\n",
       "    </tr>\n",
       "    <tr>\n",
       "      <th>PR3oO93KmDYIKS6mZp_Q9A</th>\n",
       "      <td>-73.558450</td>\n",
       "      <td>45.516096</td>\n",
       "    </tr>\n",
       "    <tr>\n",
       "      <th>UOhu2Z50eDHn77RFpBS3Dw</th>\n",
       "      <td>-73.574420</td>\n",
       "      <td>45.499447</td>\n",
       "    </tr>\n",
       "    <tr>\n",
       "      <th>OQhBvw1KWEVdi0YFTW95mQ</th>\n",
       "      <td>-73.576528</td>\n",
       "      <td>45.515867</td>\n",
       "    </tr>\n",
       "    <tr>\n",
       "      <th>fUwaGbBR4c8dxi3-YHGUHg</th>\n",
       "      <td>-73.571365</td>\n",
       "      <td>45.515281</td>\n",
       "    </tr>\n",
       "    <tr>\n",
       "      <th>ze23vJ-iiDP3VkDo6x0rew</th>\n",
       "      <td>-73.542840</td>\n",
       "      <td>45.548386</td>\n",
       "    </tr>\n",
       "    <tr>\n",
       "      <th>uNIl0fFejnVpCcHoXtcBzg</th>\n",
       "      <td>-73.673009</td>\n",
       "      <td>45.522425</td>\n",
       "    </tr>\n",
       "    <tr>\n",
       "      <th>BIshWEOIQ_b8bdZoGXRSFg</th>\n",
       "      <td>-73.555080</td>\n",
       "      <td>45.506514</td>\n",
       "    </tr>\n",
       "    <tr>\n",
       "      <th>c9-zh9b1V-wvxFgicsT7-Q</th>\n",
       "      <td>-73.554350</td>\n",
       "      <td>45.498926</td>\n",
       "    </tr>\n",
       "    <tr>\n",
       "      <th>ajbrCOvh1-xj9IsxdRmdpw</th>\n",
       "      <td>-73.580762</td>\n",
       "      <td>45.522839</td>\n",
       "    </tr>\n",
       "    <tr>\n",
       "      <th>SQNVdXquKrn4f3lTjkKBGg</th>\n",
       "      <td>-73.575198</td>\n",
       "      <td>45.500853</td>\n",
       "    </tr>\n",
       "    <tr>\n",
       "      <th>ZPXghJnhfEnA_pqukVzNHg</th>\n",
       "      <td>-73.574420</td>\n",
       "      <td>45.499447</td>\n",
       "    </tr>\n",
       "    <tr>\n",
       "      <th>0bJnBA0uNB5vqSgUX7TBTA</th>\n",
       "      <td>-73.619990</td>\n",
       "      <td>45.494889</td>\n",
       "    </tr>\n",
       "  </tbody>\n",
       "</table>\n",
       "<p>4942 rows × 2 columns</p>\n",
       "</div>"
      ],
      "text/plain": [
       "                        longitude   latitude\n",
       "business_id                                 \n",
       "lW9Up8oVTWUEut_R6nZG-g -73.544570  45.545073\n",
       "rWmYk-i8EF-g07KnVkdlqQ -73.542120  45.561749\n",
       "RZma06CqXbOIMzTQL-eJFQ -73.635581  45.589137\n",
       "GxfgoiDLfs7HC8C_wFsGPw -73.574577  45.548671\n",
       "e1_MTuBa4LTN1E2RKh53Xg -73.585389  45.555818\n",
       "yLj-pKIc-V530j1G6ySQ2Q -73.552666  45.567943\n",
       "IY5GFZTZCywC0ylKuG9ebA -73.559333  45.540425\n",
       "g8Ja8BKskzmWHX9VH7B2yg -73.566166  45.551943\n",
       "Env21pieyFD60kaC0xbmcg -73.542183  45.584279\n",
       "RySnetMQUJKbbtliTt4Nmw -73.549722  45.559632\n",
       "IYdjcA92wjvM5RtPZ3C7kw -73.559822  45.600332\n",
       "pvbBfLIVJ_5sJXUTAKmkng -73.571050  45.591208\n",
       "A9yOopsy2bQgStF3Y6lSyA -73.539624  45.552822\n",
       "dvXKsHW_WIdRbbE_Jsxx3A -73.548181  45.561379\n",
       "JqlT41fOvgMQnbL_ZhLtZw -73.563716  45.542159\n",
       "lj9PHKl7wKvQTHgFc08E-Q -73.530523  45.603934\n",
       "FefB0Lp2Sz0RMZvtgbiuMw -73.611107  45.598198\n",
       "Hn9aFjT-Up_0AJ8ZuIWTBA -73.591053  45.549392\n",
       "gas4eqbnp_dzdA3kith5XA -73.549423  45.572766\n",
       "Ra8dwM6dGUQszCXiUDPf2A -73.580856  45.595709\n",
       "FRoFkp1YGqziKAk5HAj55w -73.614669  45.560849\n",
       "dIcc2Z7m-JcHHLxwCuyfug -73.594176  45.617234\n",
       "fNlndRtXwA270PSmPKnXfQ -73.550291  45.562381\n",
       "kPFS2EnXDFcddYslkaMqKw -73.561930  45.541350\n",
       "6MSbS90XvNHz8-rUWIg1gA -73.620169  45.557235\n",
       "N-m3nClpkmdmOlQfQKpyIA -73.570672  45.555505\n",
       "z5Hd_UOjwiSEGPmOFlSCJw -73.596630  45.579058\n",
       "Oqr5zMLM2H7kJCbdc6A8Yg -73.572875  45.557148\n",
       "H36YxCHOChB1ptvFG4mBgA -73.609929  45.599547\n",
       "fviB5hGwm6phgpkFqD80wA -73.574366  45.594302\n",
       "...                           ...        ...\n",
       "g_QywoAtFtZPMdgqfUIC4A -73.588312  45.473364\n",
       "7hPfQAtOrbM0Xzj9hl2wfQ -73.601329  45.522009\n",
       "ffatJsKYCo3uV3osf2MEjQ -73.760238  45.571415\n",
       "OCJnXyn2pYgt_EOHbVo_AA -73.567118  45.487198\n",
       "X1YKyBrHXGXAZ_xZCLcpeQ -73.828993  45.468382\n",
       "vmFktEQkPfujRjNRRuA8Gw -73.583484  45.523314\n",
       "GDTFiF59PtgvABVtAxnGGg -73.626692  45.471198\n",
       "oOuXQgnMTUOUZVnT503cDQ -73.568708  45.504341\n",
       "bC79Tt7wcymEzkfukFIDog -73.494613  45.500248\n",
       "7FCdBwv18UZqNwcuuInSgA -73.601015  45.535347\n",
       "_2SV0T9wUI2YK4rEfeLhMg -73.571842  45.514486\n",
       "M1P6w_TmsP7KVTcbEyAdGw -73.569591  45.538337\n",
       "BG1gRITqMu5k7zMrdI70Tw -73.648674  45.443447\n",
       "1mgQIFFGeUc15_xk2mQDrw -73.772821  45.561102\n",
       "xkmgV0fRlAUQRLskqSgM9A -73.753714  45.545974\n",
       "SixCP_nHQlD2hnwQ5P7_Ew -73.573039  45.518863\n",
       "AIysRggUDSL7BB6CTQ07OQ -73.580200  45.479933\n",
       "SLYaf9zEiez27OkUB1GWHg -73.594333  45.523876\n",
       "PR3oO93KmDYIKS6mZp_Q9A -73.558450  45.516096\n",
       "UOhu2Z50eDHn77RFpBS3Dw -73.574420  45.499447\n",
       "OQhBvw1KWEVdi0YFTW95mQ -73.576528  45.515867\n",
       "fUwaGbBR4c8dxi3-YHGUHg -73.571365  45.515281\n",
       "ze23vJ-iiDP3VkDo6x0rew -73.542840  45.548386\n",
       "uNIl0fFejnVpCcHoXtcBzg -73.673009  45.522425\n",
       "BIshWEOIQ_b8bdZoGXRSFg -73.555080  45.506514\n",
       "c9-zh9b1V-wvxFgicsT7-Q -73.554350  45.498926\n",
       "ajbrCOvh1-xj9IsxdRmdpw -73.580762  45.522839\n",
       "SQNVdXquKrn4f3lTjkKBGg -73.575198  45.500853\n",
       "ZPXghJnhfEnA_pqukVzNHg -73.574420  45.499447\n",
       "0bJnBA0uNB5vqSgUX7TBTA -73.619990  45.494889\n",
       "\n",
       "[4942 rows x 2 columns]"
      ]
     },
     "execution_count": 26,
     "metadata": {},
     "output_type": "execute_result"
    }
   ],
   "source": [
    "df.loc[:,('longitude', 'latitude')]"
   ]
  },
  {
   "cell_type": "code",
   "execution_count": 29,
   "metadata": {
    "collapsed": false
   },
   "outputs": [],
   "source": [
    "geoclusters = k_means(df.loc[:,('longitude', 'latitude')], 100)"
   ]
  },
  {
   "cell_type": "code",
   "execution_count": 42,
   "metadata": {
    "collapsed": false
   },
   "outputs": [
    {
     "data": {
      "text/plain": [
       "array([-73.56578814,  45.51651935])"
      ]
     },
     "execution_count": 42,
     "metadata": {},
     "output_type": "execute_result"
    }
   ],
   "source": [
    "geoclusters[0][0] # first element of the first cluster"
   ]
  },
  {
   "cell_type": "code",
   "execution_count": 33,
   "metadata": {
    "collapsed": false
   },
   "outputs": [
    {
     "data": {
      "text/plain": [
       "-14.10552595779863"
      ]
     },
     "execution_count": 33,
     "metadata": {},
     "output_type": "execute_result"
    }
   ],
   "source": [
    "geoclusters[0][1].mean() # meaningless, avging lat and long for one elt"
   ]
  },
  {
   "cell_type": "code",
   "execution_count": 40,
   "metadata": {
    "collapsed": false
   },
   "outputs": [
    {
     "data": {
      "text/html": [
       "<div>\n",
       "<table border=\"1\" class=\"dataframe\">\n",
       "  <thead>\n",
       "    <tr style=\"text-align: right;\">\n",
       "      <th></th>\n",
       "      <th>longitude</th>\n",
       "      <th>latitude</th>\n",
       "      <th>stars</th>\n",
       "    </tr>\n",
       "  </thead>\n",
       "  <tbody>\n",
       "    <tr>\n",
       "      <th>count</th>\n",
       "      <td>4942.000000</td>\n",
       "      <td>4942.000000</td>\n",
       "      <td>4942.000000</td>\n",
       "    </tr>\n",
       "    <tr>\n",
       "      <th>mean</th>\n",
       "      <td>-73.602766</td>\n",
       "      <td>45.510923</td>\n",
       "      <td>3.710036</td>\n",
       "    </tr>\n",
       "    <tr>\n",
       "      <th>std</th>\n",
       "      <td>0.070349</td>\n",
       "      <td>0.031680</td>\n",
       "      <td>0.769009</td>\n",
       "    </tr>\n",
       "    <tr>\n",
       "      <th>min</th>\n",
       "      <td>-73.994516</td>\n",
       "      <td>45.401767</td>\n",
       "      <td>1.000000</td>\n",
       "    </tr>\n",
       "    <tr>\n",
       "      <th>25%</th>\n",
       "      <td>-73.612711</td>\n",
       "      <td>45.496027</td>\n",
       "      <td>3.500000</td>\n",
       "    </tr>\n",
       "    <tr>\n",
       "      <th>50%</th>\n",
       "      <td>-73.578865</td>\n",
       "      <td>45.510540</td>\n",
       "      <td>4.000000</td>\n",
       "    </tr>\n",
       "    <tr>\n",
       "      <th>75%</th>\n",
       "      <td>-73.567498</td>\n",
       "      <td>45.524995</td>\n",
       "      <td>4.500000</td>\n",
       "    </tr>\n",
       "    <tr>\n",
       "      <th>max</th>\n",
       "      <td>-73.450201</td>\n",
       "      <td>45.730644</td>\n",
       "      <td>5.000000</td>\n",
       "    </tr>\n",
       "  </tbody>\n",
       "</table>\n",
       "</div>"
      ],
      "text/plain": [
       "         longitude     latitude        stars\n",
       "count  4942.000000  4942.000000  4942.000000\n",
       "mean    -73.602766    45.510923     3.710036\n",
       "std       0.070349     0.031680     0.769009\n",
       "min     -73.994516    45.401767     1.000000\n",
       "25%     -73.612711    45.496027     3.500000\n",
       "50%     -73.578865    45.510540     4.000000\n",
       "75%     -73.567498    45.524995     4.500000\n",
       "max     -73.450201    45.730644     5.000000"
      ]
     },
     "execution_count": 40,
     "metadata": {},
     "output_type": "execute_result"
    }
   ],
   "source": [
    "df.describe()"
   ]
  },
  {
   "cell_type": "code",
   "execution_count": 43,
   "metadata": {
    "collapsed": false,
    "scrolled": true
   },
   "outputs": [
    {
     "data": {
      "text/plain": [
       "array([[-73.56578814,  45.51651935],\n",
       "       [-73.70282852,  45.4917766 ],\n",
       "       [-73.85839222,  45.45224272],\n",
       "       [-73.62463004,  45.4984731 ],\n",
       "       [-73.74694567,  45.56389035],\n",
       "       [-73.57773752,  45.48102045],\n",
       "       [-73.60899324,  45.53189592],\n",
       "       [-73.57215633,  45.59857181],\n",
       "       [-73.47010657,  45.4532373 ],\n",
       "       [-73.62187475,  45.47134375],\n",
       "       [-73.57709422,  45.53203195],\n",
       "       [-73.79841525,  45.48378011],\n",
       "       [-73.54160601,  45.5488415 ],\n",
       "       [-73.81791163,  45.57080687],\n",
       "       [-73.62972085,  45.54323453],\n",
       "       [-73.46895502,  45.47763263],\n",
       "       [-73.94955603,  45.40537838],\n",
       "       [-73.57391555,  45.49966055],\n",
       "       [-73.680728  ,  45.51215991],\n",
       "       [-73.84469154,  45.63798959],\n",
       "       [-73.65600519,  45.71043099],\n",
       "       [-73.65316215,  45.53395805],\n",
       "       [-73.75201891,  45.45526843],\n",
       "       [-73.78736334,  45.61608385],\n",
       "       [-73.70567015,  45.57693084],\n",
       "       [-73.68286123,  45.43322076],\n",
       "       [-73.55756322,  45.50168846],\n",
       "       [-73.4970113 ,  45.5203103 ],\n",
       "       [-73.60636749,  45.56165772],\n",
       "       [-73.83085751,  45.4695498 ],\n",
       "       [-73.586415  ,  45.51962704],\n",
       "       [-73.63085463,  45.42890147],\n",
       "       [-73.60531172,  45.47638414],\n",
       "       [-73.4924088 ,  45.72107908],\n",
       "       [-73.56784428,  45.4648814 ],\n",
       "       [-73.89141606,  45.56342651],\n",
       "       [-73.74898373,  45.53923964],\n",
       "       [-73.50871801,  45.64647299],\n",
       "       [-73.55326097,  45.50731957],\n",
       "       [-73.65489357,  45.56358562],\n",
       "       [-73.61793255,  45.4425473 ],\n",
       "       [-73.48857607,  45.41401119],\n",
       "       [-73.59467887,  45.54655095],\n",
       "       [-73.57308386,  45.51275253],\n",
       "       [-73.8020427 ,  45.52144177],\n",
       "       [-73.994516  ,  45.525269  ],\n",
       "       [-73.57437637,  45.55058756],\n",
       "       [-73.72583977,  45.60364392],\n",
       "       [-73.72714449,  45.53756282],\n",
       "       [-73.61393038,  45.60000824],\n",
       "       [-73.61192934,  45.54188902],\n",
       "       [-73.59631542,  45.52274685],\n",
       "       [-73.6532124 ,  45.49659732],\n",
       "       [-73.58505138,  45.48989773],\n",
       "       [-73.53942877,  45.58707364],\n",
       "       [-73.50196765,  45.49870754],\n",
       "       [-73.82523982,  45.43148281],\n",
       "       [-73.46250978,  45.5211674 ],\n",
       "       [-73.45958595,  45.58735288],\n",
       "       [-73.73003724,  45.56533533],\n",
       "       [-73.89165992,  45.43463645],\n",
       "       [-73.56912236,  45.50357285],\n",
       "       [-73.69966771,  45.51868233],\n",
       "       [-73.58750084,  45.47410018],\n",
       "       [-73.64018233,  45.45658441],\n",
       "       [-73.9181152 ,  45.6723327 ],\n",
       "       [-73.60675763,  45.52298763],\n",
       "       [-73.53011334,  45.52215574],\n",
       "       [-73.55658292,  45.51920003],\n",
       "       [-73.55184389,  45.56255638],\n",
       "       [-73.58665535,  45.57702141],\n",
       "       [-73.84630346,  45.48698406],\n",
       "       [-73.79116107,  45.45713513],\n",
       "       [-73.73691717,  45.44991216],\n",
       "       [-73.54092055,  45.4675917 ],\n",
       "       [-73.57691656,  45.5197746 ],\n",
       "       [-73.7652475 ,  45.55445693],\n",
       "       [-73.78138175,  45.53212712],\n",
       "       [-73.56936116,  45.45669085],\n",
       "       [-73.76918557,  45.49085932],\n",
       "       [-73.50902692,  45.5367699 ],\n",
       "       [-73.81646535,  45.503765  ],\n",
       "       [-73.57876047,  45.49567651],\n",
       "       [-73.62809772,  45.52600421],\n",
       "       [-73.59620789,  45.45339041],\n",
       "       [-73.56170527,  45.50888337],\n",
       "       [-73.67468435,  45.59056632],\n",
       "       [-73.56202579,  45.53724588],\n",
       "       [-73.66801128,  45.54269055],\n",
       "       [-73.63242586,  45.48597541],\n",
       "       [-73.65984842,  45.46827559],\n",
       "       [-73.80785662,  45.6248095 ],\n",
       "       [-73.87224418,  45.47770102],\n",
       "       [-73.58291642,  45.52508179],\n",
       "       [-73.61552356,  45.53546967],\n",
       "       [-73.60436483,  45.4292484 ],\n",
       "       [-73.56597792,  45.48601272],\n",
       "       [-73.78870059,  45.58532814],\n",
       "       [-73.52650554,  45.50471857],\n",
       "       [-73.60103926,  45.53595639]])"
      ]
     },
     "execution_count": 43,
     "metadata": {},
     "output_type": "execute_result"
    }
   ],
   "source": [
    "geoclusters[0]"
   ]
  },
  {
   "cell_type": "code",
   "execution_count": 52,
   "metadata": {
    "collapsed": false
   },
   "outputs": [
    {
     "name": "stdout",
     "output_type": "stream",
     "text": [
      "-73.652464177\n",
      "45.5211006118\n"
     ]
    }
   ],
   "source": [
    "print geoclusters[0].transpose()[0].mean() # mean long for cluster\n",
    "print geoclusters[0].transpose()[1].mean() # mean lat for cluster"
   ]
  },
  {
   "cell_type": "code",
   "execution_count": 72,
   "metadata": {
    "collapsed": false
   },
   "outputs": [
    {
     "data": {
      "text/plain": [
       "3"
      ]
     },
     "execution_count": 72,
     "metadata": {},
     "output_type": "execute_result"
    }
   ],
   "source": [
    "len(geoclusters)"
   ]
  },
  {
   "cell_type": "code",
   "execution_count": 99,
   "metadata": {
    "collapsed": false
   },
   "outputs": [
    {
     "data": {
      "text/plain": [
       "array([12, 69, 49, ..., 17, 17,  3], dtype=int32)"
      ]
     },
     "execution_count": 99,
     "metadata": {},
     "output_type": "execute_result"
    }
   ],
   "source": [
    "# cluster labels\n",
    "cluster_labels = geoclusters[1]\n",
    "cluster_labels"
   ]
  },
  {
   "cell_type": "code",
   "execution_count": 104,
   "metadata": {
    "collapsed": false
   },
   "outputs": [],
   "source": [
    "# Get the size of each cluster (ie number of members)\n",
    "cluster_sizes = []\n",
    "for i in range(0, 100):\n",
    "    cluster_sizes.append(list(cluster_labels).count(i))"
   ]
  },
  {
   "cell_type": "code",
   "execution_count": 81,
   "metadata": {
    "collapsed": false
   },
   "outputs": [],
   "source": [
    "cluster_centers = geoclusters[0]"
   ]
  },
  {
   "cell_type": "code",
   "execution_count": 109,
   "metadata": {
    "collapsed": false
   },
   "outputs": [
    {
     "data": {
      "text/plain": [
       "<matplotlib.text.Text at 0x10d8280d0>"
      ]
     },
     "execution_count": 109,
     "metadata": {},
     "output_type": "execute_result"
    },
    {
     "data": {
      "image/png": "[encoded data removed]",
      "text/plain": [
       "<matplotlib.figure.Figure at 0x10da59050>"
      ]
     },
     "metadata": {},
     "output_type": "display_data"
    }
   ],
   "source": [
    "plt.figure(figsize=(10,8))\n",
    "plt.scatter(cluster_centers.transpose()[0], cluster_centers.transpose()[1], s=cluster_sizes)\n",
    "plt.xlabel(\"Longitude\")\n",
    "plt.ylabel(\"Latitude\")"
   ]
  },
  {
   "cell_type": "markdown",
   "metadata": {},
   "source": [
    "## Redoing the clustering using KMeans class"
   ]
  },
  {
   "cell_type": "code",
   "execution_count": 34,
   "metadata": {
    "collapsed": true
   },
   "outputs": [],
   "source": [
    "from sklearn.cluster import KMeans"
   ]
  },
  {
   "cell_type": "code",
   "execution_count": 111,
   "metadata": {
    "collapsed": true
   },
   "outputs": [],
   "source": [
    "nclusters = 100"
   ]
  },
  {
   "cell_type": "code",
   "execution_count": 112,
   "metadata": {
    "collapsed": true
   },
   "outputs": [],
   "source": [
    "clf = KMeans(nclusters)"
   ]
  },
  {
   "cell_type": "code",
   "execution_count": 127,
   "metadata": {
    "collapsed": false
   },
   "outputs": [],
   "source": [
    "geoclusters = clf.fit(df.loc[:,('longitude', 'latitude')])"
   ]
  },
  {
   "cell_type": "code",
   "execution_count": 128,
   "metadata": {
    "collapsed": false
   },
   "outputs": [],
   "source": [
    "cluster_centers = geoclusters.cluster_centers_\n",
    "cluster_labels = geoclusters.labels_"
   ]
  },
  {
   "cell_type": "code",
   "execution_count": 129,
   "metadata": {
    "collapsed": false
   },
   "outputs": [],
   "source": [
    "cluster_sizes = []\n",
    "for i in range(0, 100):\n",
    "    cluster_sizes.append(list(cluster_labels).count(i))"
   ]
  },
  {
   "cell_type": "code",
   "execution_count": 130,
   "metadata": {
    "collapsed": false
   },
   "outputs": [
    {
     "data": {
      "text/plain": [
       "<matplotlib.text.Text at 0x10d096210>"
      ]
     },
     "execution_count": 130,
     "metadata": {},
     "output_type": "execute_result"
    },
    {
     "data": {
      "image/png": "[encoded data removed]",
      "text/plain": [
       "<matplotlib.figure.Figure at 0x10d467d10>"
      ]
     },
     "metadata": {},
     "output_type": "display_data"
    }
   ],
   "source": [
    "plt.figure(figsize=(10,8))\n",
    "plt.scatter(cluster_centers.transpose()[0], cluster_centers.transpose()[1], s=cluster_sizes)\n",
    "plt.xlabel(\"Longitude\")\n",
    "plt.ylabel(\"Latitude\")"
   ]
  },
  {
   "cell_type": "markdown",
   "metadata": {},
   "source": [
    "Visualize the clusters and boundaries\n",
    "(similar to: http://scikit-learn.org/stable/auto_examples/cluster/plot_kmeans_digits.html)"
   ]
  },
  {
   "cell_type": "code",
   "execution_count": 143,
   "metadata": {
    "collapsed": true
   },
   "outputs": [],
   "source": [
    "# Step size of mesh\n",
    "h = 0.0005"
   ]
  },
  {
   "cell_type": "code",
   "execution_count": 144,
   "metadata": {
    "collapsed": true
   },
   "outputs": [],
   "source": [
    "# Create a mesh to cover min to max x and y values\n",
    "x_min, x_max = df['longitude'].min() - 0.1, df['longitude'].max() + 0.1\n",
    "y_min, y_max = df['latitude'].min() - 0.1, df['latitude'].max() + 0.1\n",
    "xx, yy = np.meshgrid(np.arange(x_min, x_max, h), np.arange(y_min, y_max, h))"
   ]
  },
  {
   "cell_type": "code",
   "execution_count": 145,
   "metadata": {
    "collapsed": true
   },
   "outputs": [],
   "source": [
    "# Obtain labels for each point in mesh. Use last trained model.\n",
    "Z = clf.predict(np.c_[xx.ravel(), yy.ravel()])"
   ]
  },
  {
   "cell_type": "code",
   "execution_count": 149,
   "metadata": {
    "collapsed": false
   },
   "outputs": [
    {
     "data": {
      "text/plain": [
       "<matplotlib.text.Text at 0x10da4d590>"
      ]
     },
     "execution_count": 149,
     "metadata": {},
     "output_type": "execute_result"
    },
    {
     "data": {
      "image/png": "[encoded data removed]",
      "text/plain": [
       "<matplotlib.figure.Figure at 0x10d9f88d0>"
      ]
     },
     "metadata": {},
     "output_type": "display_data"
    }
   ],
   "source": [
    "# Put the result into a color plot\n",
    "Z = Z.reshape(xx.shape)\n",
    "plt.figure(1, figsize=(10,8))\n",
    "plt.clf()\n",
    "plt.imshow(Z, interpolation='nearest',\n",
    "           extent=(xx.min(), xx.max(), yy.min(), yy.max()),\n",
    "           cmap=plt.cm.Paired,\n",
    "           aspect='auto', origin='lower')\n",
    "plt.scatter(cluster_centers.transpose()[0], cluster_centers.transpose()[1],\n",
    "           # s=cluster_sizes # scale points by num members in a cluster\n",
    "           )\n",
    "plt.xlabel(\"Longitude (deg)\")\n",
    "plt.ylabel(\"Latitude (deg)\")"
   ]
  },
  {
   "cell_type": "markdown",
   "metadata": {},
   "source": [
    "## Let's now do clustering only with restaurants"
   ]
  },
  {
   "cell_type": "code",
   "execution_count": 153,
   "metadata": {
    "collapsed": false
   },
   "outputs": [
    {
     "data": {
      "text/html": [
       "<div>\n",
       "<table border=\"1\" class=\"dataframe\">\n",
       "  <thead>\n",
       "    <tr style=\"text-align: right;\">\n",
       "      <th></th>\n",
       "      <th>state</th>\n",
       "      <th>longitude</th>\n",
       "      <th>latitude</th>\n",
       "      <th>name</th>\n",
       "      <th>stars</th>\n",
       "    </tr>\n",
       "    <tr>\n",
       "      <th>business_id</th>\n",
       "      <th></th>\n",
       "      <th></th>\n",
       "      <th></th>\n",
       "      <th></th>\n",
       "      <th></th>\n",
       "    </tr>\n",
       "  </thead>\n",
       "  <tbody>\n",
       "    <tr>\n",
       "      <th>lW9Up8oVTWUEut_R6nZG-g</th>\n",
       "      <td>QC</td>\n",
       "      <td>-73.544570</td>\n",
       "      <td>45.545073</td>\n",
       "      <td>Atomic Café</td>\n",
       "      <td>4.0</td>\n",
       "    </tr>\n",
       "    <tr>\n",
       "      <th>rWmYk-i8EF-g07KnVkdlqQ</th>\n",
       "      <td>QC</td>\n",
       "      <td>-73.542120</td>\n",
       "      <td>45.561749</td>\n",
       "      <td>Restaurant Les Princesses</td>\n",
       "      <td>2.5</td>\n",
       "    </tr>\n",
       "    <tr>\n",
       "      <th>RZma06CqXbOIMzTQL-eJFQ</th>\n",
       "      <td>QC</td>\n",
       "      <td>-73.635581</td>\n",
       "      <td>45.589137</td>\n",
       "      <td>La Cage Aux Sports</td>\n",
       "      <td>2.0</td>\n",
       "    </tr>\n",
       "    <tr>\n",
       "      <th>GxfgoiDLfs7HC8C_wFsGPw</th>\n",
       "      <td>QC</td>\n",
       "      <td>-73.574577</td>\n",
       "      <td>45.548671</td>\n",
       "      <td>Boulangerie Première Moisson</td>\n",
       "      <td>4.5</td>\n",
       "    </tr>\n",
       "    <tr>\n",
       "      <th>e1_MTuBa4LTN1E2RKh53Xg</th>\n",
       "      <td>QC</td>\n",
       "      <td>-73.585389</td>\n",
       "      <td>45.555818</td>\n",
       "      <td>Zytynsky's Deli</td>\n",
       "      <td>4.5</td>\n",
       "    </tr>\n",
       "  </tbody>\n",
       "</table>\n",
       "</div>"
      ],
      "text/plain": [
       "                       state  longitude   latitude  \\\n",
       "business_id                                          \n",
       "lW9Up8oVTWUEut_R6nZG-g    QC -73.544570  45.545073   \n",
       "rWmYk-i8EF-g07KnVkdlqQ    QC -73.542120  45.561749   \n",
       "RZma06CqXbOIMzTQL-eJFQ    QC -73.635581  45.589137   \n",
       "GxfgoiDLfs7HC8C_wFsGPw    QC -73.574577  45.548671   \n",
       "e1_MTuBa4LTN1E2RKh53Xg    QC -73.585389  45.555818   \n",
       "\n",
       "                                                name  stars  \n",
       "business_id                                                  \n",
       "lW9Up8oVTWUEut_R6nZG-g                   Atomic Café    4.0  \n",
       "rWmYk-i8EF-g07KnVkdlqQ     Restaurant Les Princesses    2.5  \n",
       "RZma06CqXbOIMzTQL-eJFQ            La Cage Aux Sports    2.0  \n",
       "GxfgoiDLfs7HC8C_wFsGPw  Boulangerie Première Moisson    4.5  \n",
       "e1_MTuBa4LTN1E2RKh53Xg               Zytynsky's Deli    4.5  "
      ]
     },
     "execution_count": 153,
     "metadata": {},
     "output_type": "execute_result"
    }
   ],
   "source": [
    "df.head()"
   ]
  },
  {
   "cell_type": "code",
   "execution_count": 23,
   "metadata": {
    "collapsed": true
   },
   "outputs": [],
   "source": [
    "COLS_TO_READ = ['state', 'longitude', 'latitude', 'name', 'stars', 'catstr']"
   ]
  },
  {
   "cell_type": "code",
   "execution_count": 24,
   "metadata": {
    "collapsed": false
   },
   "outputs": [
    {
     "data": {
      "text/plain": [
       "'../yelp_dataset_challenge_academic_dataset/yelp_academic_dataset_business.json'"
      ]
     },
     "execution_count": 24,
     "metadata": {},
     "output_type": "execute_result"
    }
   ],
   "source": [
    "BUSINESSES"
   ]
  },
  {
   "cell_type": "code",
   "execution_count": 28,
   "metadata": {
    "collapsed": false
   },
   "outputs": [],
   "source": [
    "ff = open(BUSINESSES)\n",
    "results = []\n",
    "dfs = []\n",
    "ii = 0\n",
    "for line in ff.xreadlines():\n",
    "    ii += 1\n",
    "    result = json.loads(line)\n",
    "    result['catstr'] = \"|\".join(result['categories'])\n",
    "    if (result['state'] == 'QC') and ('Restaurants' in result['catstr']):\n",
    "        dfs.append(pd.DataFrame(result, columns=COLS_TO_READ, index=pd.Index([result['business_id']])))\n",
    "df_restaurants = pd.concat(dfs)\n",
    "del dfs\n",
    "\n",
    "# Set index name to \"business_id\"\n",
    "df.index.name = 'business_id'"
   ]
  },
  {
   "cell_type": "code",
   "execution_count": 31,
   "metadata": {
    "collapsed": false
   },
   "outputs": [
    {
     "data": {
      "text/html": [
       "<div>\n",
       "<table border=\"1\" class=\"dataframe\">\n",
       "  <thead>\n",
       "    <tr style=\"text-align: right;\">\n",
       "      <th></th>\n",
       "      <th>state</th>\n",
       "      <th>longitude</th>\n",
       "      <th>latitude</th>\n",
       "      <th>name</th>\n",
       "      <th>stars</th>\n",
       "      <th>catstr</th>\n",
       "    </tr>\n",
       "  </thead>\n",
       "  <tbody>\n",
       "    <tr>\n",
       "      <th>lW9Up8oVTWUEut_R6nZG-g</th>\n",
       "      <td>QC</td>\n",
       "      <td>-73.544570</td>\n",
       "      <td>45.545073</td>\n",
       "      <td>Atomic Café</td>\n",
       "      <td>4.0</td>\n",
       "      <td>Cafes|Restaurants</td>\n",
       "    </tr>\n",
       "    <tr>\n",
       "      <th>rWmYk-i8EF-g07KnVkdlqQ</th>\n",
       "      <td>QC</td>\n",
       "      <td>-73.542120</td>\n",
       "      <td>45.561749</td>\n",
       "      <td>Restaurant Les Princesses</td>\n",
       "      <td>2.5</td>\n",
       "      <td>Adult Entertainment|Breakfast &amp; Brunch|Nightli...</td>\n",
       "    </tr>\n",
       "    <tr>\n",
       "      <th>e1_MTuBa4LTN1E2RKh53Xg</th>\n",
       "      <td>QC</td>\n",
       "      <td>-73.585389</td>\n",
       "      <td>45.555818</td>\n",
       "      <td>Zytynsky's Deli</td>\n",
       "      <td>4.5</td>\n",
       "      <td>Delis|Sandwiches|Restaurants</td>\n",
       "    </tr>\n",
       "    <tr>\n",
       "      <th>yLj-pKIc-V530j1G6ySQ2Q</th>\n",
       "      <td>QC</td>\n",
       "      <td>-73.552666</td>\n",
       "      <td>45.567943</td>\n",
       "      <td>Jardin Tiki</td>\n",
       "      <td>2.5</td>\n",
       "      <td>Buffets|Chinese|Restaurants</td>\n",
       "    </tr>\n",
       "    <tr>\n",
       "      <th>IY5GFZTZCywC0ylKuG9ebA</th>\n",
       "      <td>QC</td>\n",
       "      <td>-73.559333</td>\n",
       "      <td>45.540425</td>\n",
       "      <td>Restaurant St-Hubert Rotisserie</td>\n",
       "      <td>3.5</td>\n",
       "      <td>Canadian (New)|Restaurants</td>\n",
       "    </tr>\n",
       "  </tbody>\n",
       "</table>\n",
       "</div>"
      ],
      "text/plain": [
       "                       state  longitude   latitude  \\\n",
       "lW9Up8oVTWUEut_R6nZG-g    QC -73.544570  45.545073   \n",
       "rWmYk-i8EF-g07KnVkdlqQ    QC -73.542120  45.561749   \n",
       "e1_MTuBa4LTN1E2RKh53Xg    QC -73.585389  45.555818   \n",
       "yLj-pKIc-V530j1G6ySQ2Q    QC -73.552666  45.567943   \n",
       "IY5GFZTZCywC0ylKuG9ebA    QC -73.559333  45.540425   \n",
       "\n",
       "                                                   name  stars  \\\n",
       "lW9Up8oVTWUEut_R6nZG-g                      Atomic Café    4.0   \n",
       "rWmYk-i8EF-g07KnVkdlqQ        Restaurant Les Princesses    2.5   \n",
       "e1_MTuBa4LTN1E2RKh53Xg                  Zytynsky's Deli    4.5   \n",
       "yLj-pKIc-V530j1G6ySQ2Q                      Jardin Tiki    2.5   \n",
       "IY5GFZTZCywC0ylKuG9ebA  Restaurant St-Hubert Rotisserie    3.5   \n",
       "\n",
       "                                                                   catstr  \n",
       "lW9Up8oVTWUEut_R6nZG-g                                  Cafes|Restaurants  \n",
       "rWmYk-i8EF-g07KnVkdlqQ  Adult Entertainment|Breakfast & Brunch|Nightli...  \n",
       "e1_MTuBa4LTN1E2RKh53Xg                       Delis|Sandwiches|Restaurants  \n",
       "yLj-pKIc-V530j1G6ySQ2Q                        Buffets|Chinese|Restaurants  \n",
       "IY5GFZTZCywC0ylKuG9ebA                         Canadian (New)|Restaurants  "
      ]
     },
     "execution_count": 31,
     "metadata": {},
     "output_type": "execute_result"
    }
   ],
   "source": [
    "df_restaurants.head()"
   ]
  },
  {
   "cell_type": "code",
   "execution_count": 32,
   "metadata": {
    "collapsed": false
   },
   "outputs": [
    {
     "data": {
      "text/plain": [
       "3033"
      ]
     },
     "execution_count": 32,
     "metadata": {},
     "output_type": "execute_result"
    }
   ],
   "source": [
    "len(df_restaurants)"
   ]
  },
  {
   "cell_type": "code",
   "execution_count": 35,
   "metadata": {
    "collapsed": false
   },
   "outputs": [],
   "source": [
    "nclusters = 100\n",
    "clf = KMeans(nclusters)"
   ]
  },
  {
   "cell_type": "code",
   "execution_count": 52,
   "metadata": {
    "collapsed": true
   },
   "outputs": [],
   "source": [
    "geoclusters = clf.fit(df_restaurants.loc[:,('longitude', 'latitude')])"
   ]
  },
  {
   "cell_type": "code",
   "execution_count": 53,
   "metadata": {
    "collapsed": true
   },
   "outputs": [],
   "source": [
    "cluster_centers = geoclusters.cluster_centers_\n",
    "cluster_labels = geoclusters.labels_"
   ]
  },
  {
   "cell_type": "code",
   "execution_count": 54,
   "metadata": {
    "collapsed": true
   },
   "outputs": [],
   "source": [
    "cluster_sizes = []\n",
    "for i in range(0, 100):\n",
    "    cluster_sizes.append(list(cluster_labels).count(i))"
   ]
  },
  {
   "cell_type": "code",
   "execution_count": 55,
   "metadata": {
    "collapsed": false
   },
   "outputs": [
    {
     "data": {
      "text/plain": [
       "<matplotlib.text.Text at 0x109fb4250>"
      ]
     },
     "execution_count": 55,
     "metadata": {},
     "output_type": "execute_result"
    },
    {
     "data": {
      "image/png": "[encoded data removed]",
      "text/plain": [
       "<matplotlib.figure.Figure at 0x10c01a4d0>"
      ]
     },
     "metadata": {},
     "output_type": "display_data"
    }
   ],
   "source": [
    "plt.figure(figsize=(10,8))\n",
    "plt.scatter(cluster_centers.transpose()[0], cluster_centers.transpose()[1], s=cluster_sizes)\n",
    "plt.xlabel(\"Longitude\")\n",
    "plt.ylabel(\"Latitude\")"
   ]
  },
  {
   "cell_type": "code",
   "execution_count": 56,
   "metadata": {
    "collapsed": true
   },
   "outputs": [],
   "source": [
    "# Step size of mesh\n",
    "h = 0.0005"
   ]
  },
  {
   "cell_type": "code",
   "execution_count": 57,
   "metadata": {
    "collapsed": true
   },
   "outputs": [],
   "source": [
    "# Create a mesh to cover min to max x and y values\n",
    "x_min, x_max = df['longitude'].min() - 0.1, df['longitude'].max() + 0.1\n",
    "y_min, y_max = df['latitude'].min() - 0.1, df['latitude'].max() + 0.1\n",
    "xx, yy = np.meshgrid(np.arange(x_min, x_max, h), np.arange(y_min, y_max, h))"
   ]
  },
  {
   "cell_type": "code",
   "execution_count": 58,
   "metadata": {
    "collapsed": true
   },
   "outputs": [],
   "source": [
    "# Obtain labels for each point in mesh. Use last trained model.\n",
    "Z = clf.predict(np.c_[xx.ravel(), yy.ravel()])"
   ]
  },
  {
   "cell_type": "code",
   "execution_count": 65,
   "metadata": {
    "collapsed": false,
    "scrolled": false
   },
   "outputs": [
    {
     "data": {
      "image/png": "[encoded data removed]",
      "text/plain": [
       "<matplotlib.figure.Figure at 0x104dbde50>"
      ]
     },
     "metadata": {},
     "output_type": "display_data"
    }
   ],
   "source": [
    "# Put the result into a color plot\n",
    "Z = Z.reshape(xx.shape)\n",
    "plt.figure(1, figsize=(10,8))\n",
    "plt.clf()\n",
    "plt.imshow(Z, interpolation='nearest',\n",
    "           extent=(xx.min(), xx.max(), yy.min(), yy.max()),\n",
    "           cmap=plt.cm.Paired,\n",
    "           aspect='auto', origin='lower')\n",
    "plt.scatter(cluster_centers.transpose()[0], cluster_centers.transpose()[1],\n",
    "            s=cluster_sizes # scale points by num members in a cluster\n",
    "           )\n",
    "plt.xlabel(\"Longitude (deg)\")\n",
    "plt.ylabel(\"Latitude (deg)\")\n",
    "\n",
    "# Plot cluster labels (numbers) at centroid positions\n",
    "for cluster in cluster_labels:\n",
    "    plt.text(cluster_centers[cluster][0], cluster_centers[cluster][1], cluster)"
   ]
  },
  {
   "cell_type": "code",
   "execution_count": 48,
   "metadata": {
    "collapsed": true
   },
   "outputs": [],
   "source": [
    "import collections"
   ]
  },
  {
   "cell_type": "code",
   "execution_count": 72,
   "metadata": {
    "collapsed": false,
    "scrolled": true
   },
   "outputs": [
    {
     "data": {
      "text/plain": [
       "Counter({0: 366,\n",
       "         1: 4365,\n",
       "         2: 14467,\n",
       "         3: 1248,\n",
       "         4: 90725,\n",
       "         5: 1409,\n",
       "         6: 3380,\n",
       "         7: 3433,\n",
       "         8: 3924,\n",
       "         9: 490,\n",
       "         10: 13754,\n",
       "         11: 24882,\n",
       "         12: 149262,\n",
       "         13: 4400,\n",
       "         14: 5012,\n",
       "         15: 7238,\n",
       "         16: 767,\n",
       "         17: 198939,\n",
       "         18: 465,\n",
       "         19: 2486,\n",
       "         20: 105592,\n",
       "         21: 10671,\n",
       "         22: 932,\n",
       "         23: 1084,\n",
       "         24: 4978,\n",
       "         25: 31196,\n",
       "         26: 1187,\n",
       "         27: 962,\n",
       "         28: 2207,\n",
       "         29: 3580,\n",
       "         30: 2360,\n",
       "         31: 4872,\n",
       "         32: 75256,\n",
       "         33: 3954,\n",
       "         34: 1078,\n",
       "         35: 35190,\n",
       "         36: 4615,\n",
       "         37: 6362,\n",
       "         38: 2766,\n",
       "         39: 27416,\n",
       "         40: 453,\n",
       "         41: 126545,\n",
       "         42: 31349,\n",
       "         43: 7417,\n",
       "         44: 8358,\n",
       "         45: 7521,\n",
       "         46: 21000,\n",
       "         47: 10050,\n",
       "         48: 423,\n",
       "         49: 1719,\n",
       "         50: 4078,\n",
       "         51: 4128,\n",
       "         52: 11174,\n",
       "         53: 112367,\n",
       "         54: 5545,\n",
       "         55: 5601,\n",
       "         56: 1234,\n",
       "         57: 25494,\n",
       "         58: 8436,\n",
       "         59: 1902,\n",
       "         60: 28798,\n",
       "         61: 6738,\n",
       "         62: 764,\n",
       "         63: 1377,\n",
       "         64: 755,\n",
       "         65: 1711,\n",
       "         66: 3000,\n",
       "         67: 700,\n",
       "         68: 4454,\n",
       "         69: 14024,\n",
       "         70: 3597,\n",
       "         71: 24266,\n",
       "         72: 3519,\n",
       "         73: 52249,\n",
       "         74: 47523,\n",
       "         75: 6255,\n",
       "         76: 807,\n",
       "         77: 1638,\n",
       "         78: 2700,\n",
       "         79: 2122,\n",
       "         80: 352,\n",
       "         81: 2571,\n",
       "         82: 7316,\n",
       "         83: 19402,\n",
       "         84: 16653,\n",
       "         85: 5787,\n",
       "         86: 10595,\n",
       "         87: 2754,\n",
       "         88: 1110,\n",
       "         89: 379,\n",
       "         90: 6652,\n",
       "         91: 1638,\n",
       "         92: 10196,\n",
       "         93: 1856,\n",
       "         94: 6559,\n",
       "         95: 18300,\n",
       "         96: 1937,\n",
       "         97: 425,\n",
       "         98: 475,\n",
       "         99: 1344})"
      ]
     },
     "execution_count": 72,
     "metadata": {},
     "output_type": "execute_result"
    }
   ],
   "source": [
    "# Count over Z as a proxy for cluster area (ie the area of the polygon on graph)\n",
    "cluster_areas = collections.Counter(Z.flatten())\n",
    "cluster_areas"
   ]
  },
  {
   "cell_type": "code",
   "execution_count": 47,
   "metadata": {
    "collapsed": false
   },
   "outputs": [
    {
     "data": {
      "text/plain": [
       "array([[13, 13, 13, ..., 43, 43, 43],\n",
       "       [13, 13, 13, ..., 43, 43, 43],\n",
       "       [13, 13, 13, ..., 43, 43, 43],\n",
       "       ..., \n",
       "       [70, 70, 70, ..., 73, 73, 73],\n",
       "       [70, 70, 70, ..., 73, 73, 73],\n",
       "       [70, 70, 70, ..., 73, 73, 73]], dtype=int32)"
      ]
     },
     "execution_count": 47,
     "metadata": {},
     "output_type": "execute_result"
    }
   ],
   "source": [
    "Z"
   ]
  },
  {
   "cell_type": "markdown",
   "metadata": {},
   "source": [
    "Compute some summary properties for each cluster:\n",
    "- average star rating\n",
    "- area (done; Z)\n",
    "- number of members (done; cluster_sizes)\n",
    "- density of businesses (number members/area)"
   ]
  },
  {
   "cell_type": "code",
   "execution_count": 76,
   "metadata": {
    "collapsed": false
   },
   "outputs": [],
   "source": [
    "cluster_densities = []\n",
    "for cluster in cluster_areas:\n",
    "    density = float(cluster_sizes[cluster])/float(cluster_areas.values()[cluster])\n",
    "    cluster_densities.append(density)"
   ]
  },
  {
   "cell_type": "code",
   "execution_count": 79,
   "metadata": {
    "collapsed": false,
    "scrolled": true
   },
   "outputs": [
    {
     "data": {
      "text/plain": [
       "[0.3087431693989071,\n",
       " 0.005269186712485682,\n",
       " 0.00034561415635584434,\n",
       " 0.005608974358974359,\n",
       " 7.715624138881235e-05,\n",
       " 0.017033356990773598,\n",
       " 0.009467455621301775,\n",
       " 0.0014564520827264782,\n",
       " 0.010193679918450561,\n",
       " 0.33877551020408164,\n",
       " 0.0006543550966991421,\n",
       " 0.0001607587814484366,\n",
       " 6.029665956506009e-05,\n",
       " 0.0018181818181818182,\n",
       " 0.0039904229848363925,\n",
       " 0.002072395689416966,\n",
       " 0.05867014341590613,\n",
       " 4.0213331724800064e-05,\n",
       " 0.1913978494623656,\n",
       " 0.02011263073209976,\n",
       " 9.470414425335253e-06,\n",
       " 0.00046855964764314496,\n",
       " 0.08583690987124463,\n",
       " 0.08487084870848709,\n",
       " 0.004620329449578144,\n",
       " 0.0008013847929221695,\n",
       " 0.020219039595619208,\n",
       " 0.034303534303534305,\n",
       " 0.09016764839148166,\n",
       " 0.01005586592178771,\n",
       " 0.00423728813559322,\n",
       " 0.003078817733990148,\n",
       " 1.3287977038375677e-05,\n",
       " 0.004046535154274153,\n",
       " 0.06586270871985157,\n",
       " 0.00042625745950554135,\n",
       " 0.005417118093174431,\n",
       " 0.010059729644765796,\n",
       " 0.008315256688358641,\n",
       " 0.00025532535745550046,\n",
       " 0.12141280353200883,\n",
       " 1.5804654470741632e-05,\n",
       " 0.00012759577657979522,\n",
       " 0.002696508022111366,\n",
       " 0.0023929169657812875,\n",
       " 0.0015955325089748703,\n",
       " 0.0005714285714285715,\n",
       " 0.00208955223880597,\n",
       " 0.30023640661938533,\n",
       " 0.01861547411285631,\n",
       " 0.004413928396272682,\n",
       " 0.003391472868217054,\n",
       " 0.00026848040093073206,\n",
       " 2.6698229907357144e-05,\n",
       " 0.002344454463480613,\n",
       " 0.0019639350116050706,\n",
       " 0.02188006482982172,\n",
       " 0.0004706989879971758,\n",
       " 0.0013039355144618303,\n",
       " 0.04679284963196635,\n",
       " 0.00013889853462045976,\n",
       " 0.0014841199168892847,\n",
       " 0.061518324607329845,\n",
       " 0.024691358024691357,\n",
       " 0.15894039735099338,\n",
       " 0.008182349503214495,\n",
       " 0.006,\n",
       " 0.17,\n",
       " 0.00224517287831163,\n",
       " 0.0017113519680547634,\n",
       " 0.0052821795941062,\n",
       " 0.00012362977004862772,\n",
       " 0.002841716396703609,\n",
       " 5.741736683955674e-05,\n",
       " 0.00010521221303368895,\n",
       " 0.002398081534772182,\n",
       " 0.04460966542750929,\n",
       " 0.02442002442002442,\n",
       " 0.002962962962962963,\n",
       " 0.006597549481621112,\n",
       " 0.34375,\n",
       " 0.007390120575651498,\n",
       " 0.0005467468562055768,\n",
       " 0.00010308215647871353,\n",
       " 0.0004203446826397646,\n",
       " 0.0008640055296353896,\n",
       " 0.0002831524303916942,\n",
       " 0.007988380537400145,\n",
       " 0.023423423423423424,\n",
       " 0.24538258575197888,\n",
       " 0.000751653638003608,\n",
       " 0.013431013431013432,\n",
       " 0.00039231071008238524,\n",
       " 0.008081896551724138,\n",
       " 0.0006098490623570666,\n",
       " 0.0001092896174863388,\n",
       " 0.00619514713474445,\n",
       " 0.17176470588235293,\n",
       " 0.13052631578947368,\n",
       " 0.021577380952380952]"
      ]
     },
     "execution_count": 79,
     "metadata": {},
     "output_type": "execute_result"
    }
   ],
   "source": [
    "cluster_densities"
   ]
  },
  {
   "cell_type": "code",
   "execution_count": 86,
   "metadata": {
    "collapsed": false
   },
   "outputs": [],
   "source": [
    "df_restaurants[\"ClustNum\"] = geoclusters.labels_"
   ]
  },
  {
   "cell_type": "code",
   "execution_count": 97,
   "metadata": {
    "collapsed": true
   },
   "outputs": [],
   "source": [
    "groups = df_restaurants.groupby(by=\"ClustNum\")"
   ]
  },
  {
   "cell_type": "code",
   "execution_count": 117,
   "metadata": {
    "collapsed": false
   },
   "outputs": [],
   "source": [
    "cluster_ratings = groups.stars.mean()"
   ]
  },
  {
   "cell_type": "code",
   "execution_count": 119,
   "metadata": {
    "collapsed": false,
    "scrolled": true
   },
   "outputs": [
    {
     "data": {
      "text/plain": [
       "ClustNum\n",
       "0     3.756637\n",
       "1     3.608696\n",
       "2     3.800000\n",
       "3     3.571429\n",
       "4     4.142857\n",
       "5     3.812500\n",
       "6     3.765625\n",
       "7     3.000000\n",
       "8     3.700000\n",
       "9     3.554217\n",
       "10    4.222222\n",
       "11    3.875000\n",
       "12    3.444444\n",
       "13    3.062500\n",
       "14    3.350000\n",
       "15    3.333333\n",
       "16    3.766667\n",
       "17    3.625000\n",
       "18    3.623596\n",
       "19    3.740000\n",
       "20    3.500000\n",
       "21    4.000000\n",
       "22    3.800000\n",
       "23    3.875000\n",
       "24    3.500000\n",
       "25    3.380000\n",
       "26    4.062500\n",
       "27    3.848485\n",
       "28    3.628141\n",
       "29    3.375000\n",
       "        ...   \n",
       "70    3.526316\n",
       "71    4.333333\n",
       "72    3.850000\n",
       "73    3.666667\n",
       "74    3.700000\n",
       "75    3.633333\n",
       "76    3.638889\n",
       "77    3.687500\n",
       "78    3.562500\n",
       "79    3.642857\n",
       "80    3.462810\n",
       "81    3.947368\n",
       "82    3.375000\n",
       "83    3.750000\n",
       "84    4.285714\n",
       "85    4.300000\n",
       "86    3.500000\n",
       "87    2.840909\n",
       "88    3.653846\n",
       "89    3.672043\n",
       "90    3.700000\n",
       "91    3.977273\n",
       "92    3.125000\n",
       "93    3.300000\n",
       "94    4.250000\n",
       "95    3.750000\n",
       "96    3.875000\n",
       "97    3.534247\n",
       "98    3.943548\n",
       "99    3.293103\n",
       "Name: stars, dtype: float64"
      ]
     },
     "execution_count": 119,
     "metadata": {},
     "output_type": "execute_result"
    }
   ],
   "source": [
    "cluster_ratings"
   ]
  },
  {
   "cell_type": "code",
   "execution_count": 118,
   "metadata": {
    "collapsed": false
   },
   "outputs": [
    {
     "data": {
      "text/plain": [
       "<matplotlib.axes._subplots.AxesSubplot at 0x11fd8afd0>"
      ]
     },
     "execution_count": 118,
     "metadata": {},
     "output_type": "execute_result"
    },
    {
     "data": {
      "image/png": "[encoded data removed]",
      "text/plain": [
       "<matplotlib.figure.Figure at 0x121dd8dd0>"
      ]
     },
     "metadata": {},
     "output_type": "display_data"
    }
   ],
   "source": [
    "# Plot average star ratings per cluster\n",
    "plt.figure(figsize=(20,10))\n",
    "cluster_ratings.plot(kind='bar')"
   ]
  },
  {
   "cell_type": "code",
   "execution_count": 111,
   "metadata": {
    "collapsed": false
   },
   "outputs": [
    {
     "data": {
      "text/plain": [
       "<matplotlib.axes._subplots.AxesSubplot at 0x120856f90>"
      ]
     },
     "execution_count": 111,
     "metadata": {},
     "output_type": "execute_result"
    },
    {
     "data": {
      "image/png": "[encoded data removed]",
      "text/plain": [
       "<matplotlib.figure.Figure at 0x10c443290>"
      ]
     },
     "metadata": {},
     "output_type": "display_data"
    }
   ],
   "source": [
    "# Plot number of members per cluster\n",
    "groups.stars.count().plot(kind='bar', figsize=(20,10))"
   ]
  },
  {
   "cell_type": "code",
   "execution_count": 123,
   "metadata": {
    "collapsed": false
   },
   "outputs": [],
   "source": [
    "#cluster_ratings_list = []\n",
    "#for rating in cluster_ratings:\n",
    "#    cluster_ratings_list.append(rating)"
   ]
  },
  {
   "cell_type": "code",
   "execution_count": 152,
   "metadata": {
    "collapsed": false
   },
   "outputs": [
    {
     "data": {
      "text/plain": [
       "<matplotlib.text.Text at 0x111c79bd0>"
      ]
     },
     "execution_count": 152,
     "metadata": {},
     "output_type": "execute_result"
    },
    {
     "data": {
      "image/png": "[encoded data removed]",
      "text/plain": [
       "<matplotlib.figure.Figure at 0x143e3cb50>"
      ]
     },
     "metadata": {},
     "output_type": "display_data"
    }
   ],
   "source": [
    "# Put the result into a color plot\n",
    "Z = Z.reshape(xx.shape)\n",
    "plt.figure(1, figsize=(15,10))\n",
    "plt.clf()\n",
    "plt.imshow(Z, interpolation='nearest',\n",
    "           extent=(xx.min(), xx.max(), yy.min(), yy.max()),\n",
    "           cmap=plt.cm.Paired,\n",
    "           aspect='auto', origin='lower')\n",
    "plt.scatter(cluster_centers.transpose()[0], cluster_centers.transpose()[1],\n",
    "            s=(np.array(cluster_sizes)+5)*5, # scale points by num members in a cluster\n",
    "            c=cluster_ratings, cmap='gray', \n",
    "            #edgecolor='none',\n",
    "            alpha=0.8\n",
    "           )\n",
    "plt.xlabel(\"Longitude (deg)\")\n",
    "plt.ylabel(\"Latitude (deg)\")\n",
    "plt.colorbar()\n",
    "plt.title(\"Restaurant clusters in Montreal with average star ratings\")\n",
    "\n",
    "# Plot cluster labels (numbers) at centroid positions\n",
    "#for cluster in cluster_labels:\n",
    "#    plt.text(cluster_centers[cluster][0], cluster_centers[cluster][1], cluster)"
   ]
  },
  {
   "cell_type": "markdown",
   "metadata": {},
   "source": [
    "Create a df for cluster info"
   ]
  },
  {
   "cell_type": "code",
   "execution_count": 166,
   "metadata": {
    "collapsed": false
   },
   "outputs": [],
   "source": [
    "clusters = pd.DataFrame(columns=['Area', 'Number members', 'Density', 'AvgRating'])"
   ]
  },
  {
   "cell_type": "code",
   "execution_count": 177,
   "metadata": {
    "collapsed": false
   },
   "outputs": [],
   "source": [
    "clusters['Density'] = cluster_densities\n",
    "clusters['AvgRating'] = cluster_ratings\n",
    "clusters['Area'] = cluster_areas.values()\n",
    "clusters['Number members'] = cluster_sizes"
   ]
  },
  {
   "cell_type": "code",
   "execution_count": 181,
   "metadata": {
    "collapsed": false
   },
   "outputs": [],
   "source": [
    "clusters.index.name = 'ClustNum'"
   ]
  },
  {
   "cell_type": "code",
   "execution_count": 182,
   "metadata": {
    "collapsed": false,
    "scrolled": true
   },
   "outputs": [
    {
     "data": {
      "text/html": [
       "<div>\n",
       "<table border=\"1\" class=\"dataframe\">\n",
       "  <thead>\n",
       "    <tr style=\"text-align: right;\">\n",
       "      <th></th>\n",
       "      <th>Area</th>\n",
       "      <th>Number members</th>\n",
       "      <th>Density</th>\n",
       "      <th>AvgRating</th>\n",
       "    </tr>\n",
       "    <tr>\n",
       "      <th>ClustNum</th>\n",
       "      <th></th>\n",
       "      <th></th>\n",
       "      <th></th>\n",
       "      <th></th>\n",
       "    </tr>\n",
       "  </thead>\n",
       "  <tbody>\n",
       "    <tr>\n",
       "      <th>0</th>\n",
       "      <td>366</td>\n",
       "      <td>113</td>\n",
       "      <td>0.308743</td>\n",
       "      <td>3.756637</td>\n",
       "    </tr>\n",
       "    <tr>\n",
       "      <th>1</th>\n",
       "      <td>4365</td>\n",
       "      <td>23</td>\n",
       "      <td>0.005269</td>\n",
       "      <td>3.608696</td>\n",
       "    </tr>\n",
       "    <tr>\n",
       "      <th>2</th>\n",
       "      <td>14467</td>\n",
       "      <td>5</td>\n",
       "      <td>0.000346</td>\n",
       "      <td>3.800000</td>\n",
       "    </tr>\n",
       "    <tr>\n",
       "      <th>3</th>\n",
       "      <td>1248</td>\n",
       "      <td>7</td>\n",
       "      <td>0.005609</td>\n",
       "      <td>3.571429</td>\n",
       "    </tr>\n",
       "    <tr>\n",
       "      <th>4</th>\n",
       "      <td>90725</td>\n",
       "      <td>7</td>\n",
       "      <td>0.000077</td>\n",
       "      <td>4.142857</td>\n",
       "    </tr>\n",
       "    <tr>\n",
       "      <th>5</th>\n",
       "      <td>1409</td>\n",
       "      <td>24</td>\n",
       "      <td>0.017033</td>\n",
       "      <td>3.812500</td>\n",
       "    </tr>\n",
       "    <tr>\n",
       "      <th>6</th>\n",
       "      <td>3380</td>\n",
       "      <td>32</td>\n",
       "      <td>0.009467</td>\n",
       "      <td>3.765625</td>\n",
       "    </tr>\n",
       "    <tr>\n",
       "      <th>7</th>\n",
       "      <td>3433</td>\n",
       "      <td>5</td>\n",
       "      <td>0.001456</td>\n",
       "      <td>3.000000</td>\n",
       "    </tr>\n",
       "    <tr>\n",
       "      <th>8</th>\n",
       "      <td>3924</td>\n",
       "      <td>40</td>\n",
       "      <td>0.010194</td>\n",
       "      <td>3.700000</td>\n",
       "    </tr>\n",
       "    <tr>\n",
       "      <th>9</th>\n",
       "      <td>490</td>\n",
       "      <td>166</td>\n",
       "      <td>0.338776</td>\n",
       "      <td>3.554217</td>\n",
       "    </tr>\n",
       "    <tr>\n",
       "      <th>10</th>\n",
       "      <td>13754</td>\n",
       "      <td>9</td>\n",
       "      <td>0.000654</td>\n",
       "      <td>4.222222</td>\n",
       "    </tr>\n",
       "    <tr>\n",
       "      <th>11</th>\n",
       "      <td>24882</td>\n",
       "      <td>4</td>\n",
       "      <td>0.000161</td>\n",
       "      <td>3.875000</td>\n",
       "    </tr>\n",
       "    <tr>\n",
       "      <th>12</th>\n",
       "      <td>149262</td>\n",
       "      <td>9</td>\n",
       "      <td>0.000060</td>\n",
       "      <td>3.444444</td>\n",
       "    </tr>\n",
       "    <tr>\n",
       "      <th>13</th>\n",
       "      <td>4400</td>\n",
       "      <td>8</td>\n",
       "      <td>0.001818</td>\n",
       "      <td>3.062500</td>\n",
       "    </tr>\n",
       "    <tr>\n",
       "      <th>14</th>\n",
       "      <td>5012</td>\n",
       "      <td>20</td>\n",
       "      <td>0.003990</td>\n",
       "      <td>3.350000</td>\n",
       "    </tr>\n",
       "    <tr>\n",
       "      <th>15</th>\n",
       "      <td>7238</td>\n",
       "      <td>15</td>\n",
       "      <td>0.002072</td>\n",
       "      <td>3.333333</td>\n",
       "    </tr>\n",
       "    <tr>\n",
       "      <th>16</th>\n",
       "      <td>767</td>\n",
       "      <td>45</td>\n",
       "      <td>0.058670</td>\n",
       "      <td>3.766667</td>\n",
       "    </tr>\n",
       "    <tr>\n",
       "      <th>17</th>\n",
       "      <td>198939</td>\n",
       "      <td>8</td>\n",
       "      <td>0.000040</td>\n",
       "      <td>3.625000</td>\n",
       "    </tr>\n",
       "    <tr>\n",
       "      <th>18</th>\n",
       "      <td>465</td>\n",
       "      <td>89</td>\n",
       "      <td>0.191398</td>\n",
       "      <td>3.623596</td>\n",
       "    </tr>\n",
       "    <tr>\n",
       "      <th>19</th>\n",
       "      <td>2486</td>\n",
       "      <td>50</td>\n",
       "      <td>0.020113</td>\n",
       "      <td>3.740000</td>\n",
       "    </tr>\n",
       "    <tr>\n",
       "      <th>20</th>\n",
       "      <td>105592</td>\n",
       "      <td>1</td>\n",
       "      <td>0.000009</td>\n",
       "      <td>3.500000</td>\n",
       "    </tr>\n",
       "    <tr>\n",
       "      <th>21</th>\n",
       "      <td>10671</td>\n",
       "      <td>5</td>\n",
       "      <td>0.000469</td>\n",
       "      <td>4.000000</td>\n",
       "    </tr>\n",
       "    <tr>\n",
       "      <th>22</th>\n",
       "      <td>932</td>\n",
       "      <td>80</td>\n",
       "      <td>0.085837</td>\n",
       "      <td>3.800000</td>\n",
       "    </tr>\n",
       "    <tr>\n",
       "      <th>23</th>\n",
       "      <td>1084</td>\n",
       "      <td>92</td>\n",
       "      <td>0.084871</td>\n",
       "      <td>3.875000</td>\n",
       "    </tr>\n",
       "    <tr>\n",
       "      <th>24</th>\n",
       "      <td>4978</td>\n",
       "      <td>23</td>\n",
       "      <td>0.004620</td>\n",
       "      <td>3.500000</td>\n",
       "    </tr>\n",
       "    <tr>\n",
       "      <th>25</th>\n",
       "      <td>31196</td>\n",
       "      <td>25</td>\n",
       "      <td>0.000801</td>\n",
       "      <td>3.380000</td>\n",
       "    </tr>\n",
       "    <tr>\n",
       "      <th>26</th>\n",
       "      <td>1187</td>\n",
       "      <td>24</td>\n",
       "      <td>0.020219</td>\n",
       "      <td>4.062500</td>\n",
       "    </tr>\n",
       "    <tr>\n",
       "      <th>27</th>\n",
       "      <td>962</td>\n",
       "      <td>33</td>\n",
       "      <td>0.034304</td>\n",
       "      <td>3.848485</td>\n",
       "    </tr>\n",
       "    <tr>\n",
       "      <th>28</th>\n",
       "      <td>2207</td>\n",
       "      <td>199</td>\n",
       "      <td>0.090168</td>\n",
       "      <td>3.628141</td>\n",
       "    </tr>\n",
       "    <tr>\n",
       "      <th>29</th>\n",
       "      <td>3580</td>\n",
       "      <td>36</td>\n",
       "      <td>0.010056</td>\n",
       "      <td>3.375000</td>\n",
       "    </tr>\n",
       "    <tr>\n",
       "      <th>...</th>\n",
       "      <td>...</td>\n",
       "      <td>...</td>\n",
       "      <td>...</td>\n",
       "      <td>...</td>\n",
       "    </tr>\n",
       "    <tr>\n",
       "      <th>70</th>\n",
       "      <td>3597</td>\n",
       "      <td>19</td>\n",
       "      <td>0.005282</td>\n",
       "      <td>3.526316</td>\n",
       "    </tr>\n",
       "    <tr>\n",
       "      <th>71</th>\n",
       "      <td>24266</td>\n",
       "      <td>3</td>\n",
       "      <td>0.000124</td>\n",
       "      <td>4.333333</td>\n",
       "    </tr>\n",
       "    <tr>\n",
       "      <th>72</th>\n",
       "      <td>3519</td>\n",
       "      <td>10</td>\n",
       "      <td>0.002842</td>\n",
       "      <td>3.850000</td>\n",
       "    </tr>\n",
       "    <tr>\n",
       "      <th>73</th>\n",
       "      <td>52249</td>\n",
       "      <td>3</td>\n",
       "      <td>0.000057</td>\n",
       "      <td>3.666667</td>\n",
       "    </tr>\n",
       "    <tr>\n",
       "      <th>74</th>\n",
       "      <td>47523</td>\n",
       "      <td>5</td>\n",
       "      <td>0.000105</td>\n",
       "      <td>3.700000</td>\n",
       "    </tr>\n",
       "    <tr>\n",
       "      <th>75</th>\n",
       "      <td>6255</td>\n",
       "      <td>15</td>\n",
       "      <td>0.002398</td>\n",
       "      <td>3.633333</td>\n",
       "    </tr>\n",
       "    <tr>\n",
       "      <th>76</th>\n",
       "      <td>807</td>\n",
       "      <td>36</td>\n",
       "      <td>0.044610</td>\n",
       "      <td>3.638889</td>\n",
       "    </tr>\n",
       "    <tr>\n",
       "      <th>77</th>\n",
       "      <td>1638</td>\n",
       "      <td>40</td>\n",
       "      <td>0.024420</td>\n",
       "      <td>3.687500</td>\n",
       "    </tr>\n",
       "    <tr>\n",
       "      <th>78</th>\n",
       "      <td>2700</td>\n",
       "      <td>8</td>\n",
       "      <td>0.002963</td>\n",
       "      <td>3.562500</td>\n",
       "    </tr>\n",
       "    <tr>\n",
       "      <th>79</th>\n",
       "      <td>2122</td>\n",
       "      <td>14</td>\n",
       "      <td>0.006598</td>\n",
       "      <td>3.642857</td>\n",
       "    </tr>\n",
       "    <tr>\n",
       "      <th>80</th>\n",
       "      <td>352</td>\n",
       "      <td>121</td>\n",
       "      <td>0.343750</td>\n",
       "      <td>3.462810</td>\n",
       "    </tr>\n",
       "    <tr>\n",
       "      <th>81</th>\n",
       "      <td>2571</td>\n",
       "      <td>19</td>\n",
       "      <td>0.007390</td>\n",
       "      <td>3.947368</td>\n",
       "    </tr>\n",
       "    <tr>\n",
       "      <th>82</th>\n",
       "      <td>7316</td>\n",
       "      <td>4</td>\n",
       "      <td>0.000547</td>\n",
       "      <td>3.375000</td>\n",
       "    </tr>\n",
       "    <tr>\n",
       "      <th>83</th>\n",
       "      <td>19402</td>\n",
       "      <td>2</td>\n",
       "      <td>0.000103</td>\n",
       "      <td>3.750000</td>\n",
       "    </tr>\n",
       "    <tr>\n",
       "      <th>84</th>\n",
       "      <td>16653</td>\n",
       "      <td>7</td>\n",
       "      <td>0.000420</td>\n",
       "      <td>4.285714</td>\n",
       "    </tr>\n",
       "    <tr>\n",
       "      <th>85</th>\n",
       "      <td>5787</td>\n",
       "      <td>5</td>\n",
       "      <td>0.000864</td>\n",
       "      <td>4.300000</td>\n",
       "    </tr>\n",
       "    <tr>\n",
       "      <th>86</th>\n",
       "      <td>10595</td>\n",
       "      <td>3</td>\n",
       "      <td>0.000283</td>\n",
       "      <td>3.500000</td>\n",
       "    </tr>\n",
       "    <tr>\n",
       "      <th>87</th>\n",
       "      <td>2754</td>\n",
       "      <td>22</td>\n",
       "      <td>0.007988</td>\n",
       "      <td>2.840909</td>\n",
       "    </tr>\n",
       "    <tr>\n",
       "      <th>88</th>\n",
       "      <td>1110</td>\n",
       "      <td>26</td>\n",
       "      <td>0.023423</td>\n",
       "      <td>3.653846</td>\n",
       "    </tr>\n",
       "    <tr>\n",
       "      <th>89</th>\n",
       "      <td>379</td>\n",
       "      <td>93</td>\n",
       "      <td>0.245383</td>\n",
       "      <td>3.672043</td>\n",
       "    </tr>\n",
       "    <tr>\n",
       "      <th>90</th>\n",
       "      <td>6652</td>\n",
       "      <td>5</td>\n",
       "      <td>0.000752</td>\n",
       "      <td>3.700000</td>\n",
       "    </tr>\n",
       "    <tr>\n",
       "      <th>91</th>\n",
       "      <td>1638</td>\n",
       "      <td>22</td>\n",
       "      <td>0.013431</td>\n",
       "      <td>3.977273</td>\n",
       "    </tr>\n",
       "    <tr>\n",
       "      <th>92</th>\n",
       "      <td>10196</td>\n",
       "      <td>4</td>\n",
       "      <td>0.000392</td>\n",
       "      <td>3.125000</td>\n",
       "    </tr>\n",
       "    <tr>\n",
       "      <th>93</th>\n",
       "      <td>1856</td>\n",
       "      <td>15</td>\n",
       "      <td>0.008082</td>\n",
       "      <td>3.300000</td>\n",
       "    </tr>\n",
       "    <tr>\n",
       "      <th>94</th>\n",
       "      <td>6559</td>\n",
       "      <td>4</td>\n",
       "      <td>0.000610</td>\n",
       "      <td>4.250000</td>\n",
       "    </tr>\n",
       "    <tr>\n",
       "      <th>95</th>\n",
       "      <td>18300</td>\n",
       "      <td>2</td>\n",
       "      <td>0.000109</td>\n",
       "      <td>3.750000</td>\n",
       "    </tr>\n",
       "    <tr>\n",
       "      <th>96</th>\n",
       "      <td>1937</td>\n",
       "      <td>12</td>\n",
       "      <td>0.006195</td>\n",
       "      <td>3.875000</td>\n",
       "    </tr>\n",
       "    <tr>\n",
       "      <th>97</th>\n",
       "      <td>425</td>\n",
       "      <td>73</td>\n",
       "      <td>0.171765</td>\n",
       "      <td>3.534247</td>\n",
       "    </tr>\n",
       "    <tr>\n",
       "      <th>98</th>\n",
       "      <td>475</td>\n",
       "      <td>62</td>\n",
       "      <td>0.130526</td>\n",
       "      <td>3.943548</td>\n",
       "    </tr>\n",
       "    <tr>\n",
       "      <th>99</th>\n",
       "      <td>1344</td>\n",
       "      <td>29</td>\n",
       "      <td>0.021577</td>\n",
       "      <td>3.293103</td>\n",
       "    </tr>\n",
       "  </tbody>\n",
       "</table>\n",
       "<p>100 rows × 4 columns</p>\n",
       "</div>"
      ],
      "text/plain": [
       "            Area  Number members   Density  AvgRating\n",
       "ClustNum                                             \n",
       "0            366             113  0.308743   3.756637\n",
       "1           4365              23  0.005269   3.608696\n",
       "2          14467               5  0.000346   3.800000\n",
       "3           1248               7  0.005609   3.571429\n",
       "4          90725               7  0.000077   4.142857\n",
       "5           1409              24  0.017033   3.812500\n",
       "6           3380              32  0.009467   3.765625\n",
       "7           3433               5  0.001456   3.000000\n",
       "8           3924              40  0.010194   3.700000\n",
       "9            490             166  0.338776   3.554217\n",
       "10         13754               9  0.000654   4.222222\n",
       "11         24882               4  0.000161   3.875000\n",
       "12        149262               9  0.000060   3.444444\n",
       "13          4400               8  0.001818   3.062500\n",
       "14          5012              20  0.003990   3.350000\n",
       "15          7238              15  0.002072   3.333333\n",
       "16           767              45  0.058670   3.766667\n",
       "17        198939               8  0.000040   3.625000\n",
       "18           465              89  0.191398   3.623596\n",
       "19          2486              50  0.020113   3.740000\n",
       "20        105592               1  0.000009   3.500000\n",
       "21         10671               5  0.000469   4.000000\n",
       "22           932              80  0.085837   3.800000\n",
       "23          1084              92  0.084871   3.875000\n",
       "24          4978              23  0.004620   3.500000\n",
       "25         31196              25  0.000801   3.380000\n",
       "26          1187              24  0.020219   4.062500\n",
       "27           962              33  0.034304   3.848485\n",
       "28          2207             199  0.090168   3.628141\n",
       "29          3580              36  0.010056   3.375000\n",
       "...          ...             ...       ...        ...\n",
       "70          3597              19  0.005282   3.526316\n",
       "71         24266               3  0.000124   4.333333\n",
       "72          3519              10  0.002842   3.850000\n",
       "73         52249               3  0.000057   3.666667\n",
       "74         47523               5  0.000105   3.700000\n",
       "75          6255              15  0.002398   3.633333\n",
       "76           807              36  0.044610   3.638889\n",
       "77          1638              40  0.024420   3.687500\n",
       "78          2700               8  0.002963   3.562500\n",
       "79          2122              14  0.006598   3.642857\n",
       "80           352             121  0.343750   3.462810\n",
       "81          2571              19  0.007390   3.947368\n",
       "82          7316               4  0.000547   3.375000\n",
       "83         19402               2  0.000103   3.750000\n",
       "84         16653               7  0.000420   4.285714\n",
       "85          5787               5  0.000864   4.300000\n",
       "86         10595               3  0.000283   3.500000\n",
       "87          2754              22  0.007988   2.840909\n",
       "88          1110              26  0.023423   3.653846\n",
       "89           379              93  0.245383   3.672043\n",
       "90          6652               5  0.000752   3.700000\n",
       "91          1638              22  0.013431   3.977273\n",
       "92         10196               4  0.000392   3.125000\n",
       "93          1856              15  0.008082   3.300000\n",
       "94          6559               4  0.000610   4.250000\n",
       "95         18300               2  0.000109   3.750000\n",
       "96          1937              12  0.006195   3.875000\n",
       "97           425              73  0.171765   3.534247\n",
       "98           475              62  0.130526   3.943548\n",
       "99          1344              29  0.021577   3.293103\n",
       "\n",
       "[100 rows x 4 columns]"
      ]
     },
     "execution_count": 182,
     "metadata": {},
     "output_type": "execute_result"
    }
   ],
   "source": [
    "clusters"
   ]
  },
  {
   "cell_type": "code",
   "execution_count": 185,
   "metadata": {
    "collapsed": false
   },
   "outputs": [],
   "source": [
    "restoclust = df_restaurants.join(clusters, on='ClustNum')"
   ]
  },
  {
   "cell_type": "code",
   "execution_count": 186,
   "metadata": {
    "collapsed": false
   },
   "outputs": [
    {
     "data": {
      "text/html": [
       "<div>\n",
       "<table border=\"1\" class=\"dataframe\">\n",
       "  <thead>\n",
       "    <tr style=\"text-align: right;\">\n",
       "      <th></th>\n",
       "      <th>state</th>\n",
       "      <th>longitude</th>\n",
       "      <th>latitude</th>\n",
       "      <th>name</th>\n",
       "      <th>stars</th>\n",
       "      <th>catstr</th>\n",
       "      <th>ClustNum</th>\n",
       "      <th>Area</th>\n",
       "      <th>Number members</th>\n",
       "      <th>Density</th>\n",
       "      <th>AvgRating</th>\n",
       "    </tr>\n",
       "  </thead>\n",
       "  <tbody>\n",
       "    <tr>\n",
       "      <th>lW9Up8oVTWUEut_R6nZG-g</th>\n",
       "      <td>QC</td>\n",
       "      <td>-73.544570</td>\n",
       "      <td>45.545073</td>\n",
       "      <td>Atomic Café</td>\n",
       "      <td>4.0</td>\n",
       "      <td>Cafes|Restaurants</td>\n",
       "      <td>8</td>\n",
       "      <td>3924</td>\n",
       "      <td>40</td>\n",
       "      <td>0.010194</td>\n",
       "      <td>3.7000</td>\n",
       "    </tr>\n",
       "    <tr>\n",
       "      <th>rWmYk-i8EF-g07KnVkdlqQ</th>\n",
       "      <td>QC</td>\n",
       "      <td>-73.542120</td>\n",
       "      <td>45.561749</td>\n",
       "      <td>Restaurant Les Princesses</td>\n",
       "      <td>2.5</td>\n",
       "      <td>Adult Entertainment|Breakfast &amp; Brunch|Nightli...</td>\n",
       "      <td>8</td>\n",
       "      <td>3924</td>\n",
       "      <td>40</td>\n",
       "      <td>0.010194</td>\n",
       "      <td>3.7000</td>\n",
       "    </tr>\n",
       "    <tr>\n",
       "      <th>e1_MTuBa4LTN1E2RKh53Xg</th>\n",
       "      <td>QC</td>\n",
       "      <td>-73.585389</td>\n",
       "      <td>45.555818</td>\n",
       "      <td>Zytynsky's Deli</td>\n",
       "      <td>4.5</td>\n",
       "      <td>Delis|Sandwiches|Restaurants</td>\n",
       "      <td>26</td>\n",
       "      <td>1187</td>\n",
       "      <td>24</td>\n",
       "      <td>0.020219</td>\n",
       "      <td>4.0625</td>\n",
       "    </tr>\n",
       "    <tr>\n",
       "      <th>yLj-pKIc-V530j1G6ySQ2Q</th>\n",
       "      <td>QC</td>\n",
       "      <td>-73.552666</td>\n",
       "      <td>45.567943</td>\n",
       "      <td>Jardin Tiki</td>\n",
       "      <td>2.5</td>\n",
       "      <td>Buffets|Chinese|Restaurants</td>\n",
       "      <td>14</td>\n",
       "      <td>5012</td>\n",
       "      <td>20</td>\n",
       "      <td>0.003990</td>\n",
       "      <td>3.3500</td>\n",
       "    </tr>\n",
       "    <tr>\n",
       "      <th>IY5GFZTZCywC0ylKuG9ebA</th>\n",
       "      <td>QC</td>\n",
       "      <td>-73.559333</td>\n",
       "      <td>45.540425</td>\n",
       "      <td>Restaurant St-Hubert Rotisserie</td>\n",
       "      <td>3.5</td>\n",
       "      <td>Canadian (New)|Restaurants</td>\n",
       "      <td>65</td>\n",
       "      <td>1711</td>\n",
       "      <td>14</td>\n",
       "      <td>0.008182</td>\n",
       "      <td>4.0000</td>\n",
       "    </tr>\n",
       "  </tbody>\n",
       "</table>\n",
       "</div>"
      ],
      "text/plain": [
       "                       state  longitude   latitude  \\\n",
       "lW9Up8oVTWUEut_R6nZG-g    QC -73.544570  45.545073   \n",
       "rWmYk-i8EF-g07KnVkdlqQ    QC -73.542120  45.561749   \n",
       "e1_MTuBa4LTN1E2RKh53Xg    QC -73.585389  45.555818   \n",
       "yLj-pKIc-V530j1G6ySQ2Q    QC -73.552666  45.567943   \n",
       "IY5GFZTZCywC0ylKuG9ebA    QC -73.559333  45.540425   \n",
       "\n",
       "                                                   name  stars  \\\n",
       "lW9Up8oVTWUEut_R6nZG-g                      Atomic Café    4.0   \n",
       "rWmYk-i8EF-g07KnVkdlqQ        Restaurant Les Princesses    2.5   \n",
       "e1_MTuBa4LTN1E2RKh53Xg                  Zytynsky's Deli    4.5   \n",
       "yLj-pKIc-V530j1G6ySQ2Q                      Jardin Tiki    2.5   \n",
       "IY5GFZTZCywC0ylKuG9ebA  Restaurant St-Hubert Rotisserie    3.5   \n",
       "\n",
       "                                                                   catstr  \\\n",
       "lW9Up8oVTWUEut_R6nZG-g                                  Cafes|Restaurants   \n",
       "rWmYk-i8EF-g07KnVkdlqQ  Adult Entertainment|Breakfast & Brunch|Nightli...   \n",
       "e1_MTuBa4LTN1E2RKh53Xg                       Delis|Sandwiches|Restaurants   \n",
       "yLj-pKIc-V530j1G6ySQ2Q                        Buffets|Chinese|Restaurants   \n",
       "IY5GFZTZCywC0ylKuG9ebA                         Canadian (New)|Restaurants   \n",
       "\n",
       "                        ClustNum  Area  Number members   Density  AvgRating  \n",
       "lW9Up8oVTWUEut_R6nZG-g         8  3924              40  0.010194     3.7000  \n",
       "rWmYk-i8EF-g07KnVkdlqQ         8  3924              40  0.010194     3.7000  \n",
       "e1_MTuBa4LTN1E2RKh53Xg        26  1187              24  0.020219     4.0625  \n",
       "yLj-pKIc-V530j1G6ySQ2Q        14  5012              20  0.003990     3.3500  \n",
       "IY5GFZTZCywC0ylKuG9ebA        65  1711              14  0.008182     4.0000  "
      ]
     },
     "execution_count": 186,
     "metadata": {},
     "output_type": "execute_result"
    }
   ],
   "source": [
    "restoclust.head()"
   ]
  },
  {
   "cell_type": "code",
   "execution_count": null,
   "metadata": {
    "collapsed": true
   },
   "outputs": [],
   "source": [
    "# For each restaurant, how does its rating compare to its avg cluster rating?\n",
    "#restoclust['RatingVsAvg'] = "
   ]
  },
  {
   "cell_type": "code",
   "execution_count": 187,
   "metadata": {
    "collapsed": true
   },
   "outputs": [],
   "source": [
    "restoclust.index.name = 'business_id'"
   ]
  },
  {
   "cell_type": "code",
   "execution_count": 194,
   "metadata": {
    "collapsed": false
   },
   "outputs": [
    {
     "data": {
      "text/plain": [
       "state              object\n",
       "longitude         float64\n",
       "latitude          float64\n",
       "name               object\n",
       "stars             float64\n",
       "catstr             object\n",
       "ClustNum            int32\n",
       "Area                int64\n",
       "Number members      int64\n",
       "Density           float64\n",
       "AvgRating         float64\n",
       "dtype: object"
      ]
     },
     "execution_count": 194,
     "metadata": {},
     "output_type": "execute_result"
    }
   ],
   "source": [
    "restoclust.dtypes"
   ]
  },
  {
   "cell_type": "code",
   "execution_count": 195,
   "metadata": {
    "collapsed": false
   },
   "outputs": [],
   "source": [
    "restoclust.to_csv(\"RestaurantsWithClusters.csv\", encoding='utf-8')"
   ]
  },
  {
   "cell_type": "code",
   "execution_count": null,
   "metadata": {
    "collapsed": true
   },
   "outputs": [],
   "source": []
  },
  {
   "cell_type": "code",
   "execution_count": null,
   "metadata": {
    "collapsed": true
   },
   "outputs": [],
   "source": []
  },
  {
   "cell_type": "code",
   "execution_count": null,
   "metadata": {
    "collapsed": true
   },
   "outputs": [],
   "source": [
    "fig = plt.figure(figsize=(20,20))\n",
    "ax = plt.axes()\n",
    "mtlmap = Basemap(ax=ax, projection='cyl', lon_0=-73.5673, lat_0=45.5017,\n",
    "                 llcrnrlon=-73.953833, llcrnrlat=45.401767, urcrnrlon=-73.450201, urcrnrlat=45.730644,\n",
    "                height=60000, width=60000, resolution='l')\n",
    "mtlmap.drawcoastlines()\n",
    "#mtlmap.drawstates()\n",
    "#mtlmap.drawcountries()\n",
    "ind = df['stars']>-1\n",
    "scatt = mtlmap.scatter(df['longitude'][ind], df['latitude'][ind], c=df['stars'][ind], s=50, alpha=0.5)\n",
    "#print xx\n",
    "cbar = mtlmap.colorbar(scatt)\n",
    "cbar.set_label(\"Stars\")"
   ]
  }
 ],
 "metadata": {
  "kernelspec": {
   "display_name": "Python 2",
   "language": "python",
   "name": "python2"
  },
  "language_info": {
   "codemirror_mode": {
    "name": "ipython",
    "version": 2
   },
   "file_extension": ".py",
   "mimetype": "text/x-python",
   "name": "python",
   "nbconvert_exporter": "python",
   "pygments_lexer": "ipython2",
   "version": "2.7.11"
  }
 },
 "nbformat": 4,
 "nbformat_minor": 0
}
