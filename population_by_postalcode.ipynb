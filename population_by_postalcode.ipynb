{
 "cells": [
  {
   "cell_type": "code",
   "execution_count": 1,
   "metadata": {
    "collapsed": true
   },
   "outputs": [],
   "source": [
    "import pandas as pd\n",
    "import numpy as np\n",
    "import matplotlib.pyplot as plt"
   ]
  },
  {
   "cell_type": "code",
   "execution_count": 35,
   "metadata": {
    "collapsed": true
   },
   "outputs": [],
   "source": [
    "import itertools\n",
    "import re"
   ]
  },
  {
   "cell_type": "code",
   "execution_count": 31,
   "metadata": {
    "collapsed": true
   },
   "outputs": [],
   "source": [
    "POPDATA = \"data/canada_pop-dwelling_by_postalcode_2011.csv\"\n",
    "BASICBIZ = \"yelp_total.csv\""
   ]
  },
  {
   "cell_type": "code",
   "execution_count": 23,
   "metadata": {
    "collapsed": true
   },
   "outputs": [],
   "source": [
    "pops = pd.read_csv(POPDATA, index_col=\"Geographic name\")"
   ]
  },
  {
   "cell_type": "code",
   "execution_count": 24,
   "metadata": {
    "collapsed": false
   },
   "outputs": [
    {
     "data": {
      "text/html": [
       "<div>\n",
       "<table border=\"1\" class=\"dataframe\">\n",
       "  <thead>\n",
       "    <tr style=\"text-align: right;\">\n",
       "      <th></th>\n",
       "      <th>Population, 2011</th>\n",
       "      <th>Total private dwellings, 2011</th>\n",
       "      <th>Private dwellings occupied by usual residents, 2011</th>\n",
       "    </tr>\n",
       "    <tr>\n",
       "      <th>Geographic name</th>\n",
       "      <th></th>\n",
       "      <th></th>\n",
       "      <th></th>\n",
       "    </tr>\n",
       "  </thead>\n",
       "  <tbody>\n",
       "    <tr>\n",
       "      <th>A0A</th>\n",
       "      <td>46297</td>\n",
       "      <td>23950</td>\n",
       "      <td>18701</td>\n",
       "    </tr>\n",
       "    <tr>\n",
       "      <th>A0B</th>\n",
       "      <td>20985</td>\n",
       "      <td>12585</td>\n",
       "      <td>8854</td>\n",
       "    </tr>\n",
       "    <tr>\n",
       "      <th>A0C</th>\n",
       "      <td>12834</td>\n",
       "      <td>8272</td>\n",
       "      <td>5482</td>\n",
       "    </tr>\n",
       "    <tr>\n",
       "      <th>A0E</th>\n",
       "      <td>23384</td>\n",
       "      <td>12733</td>\n",
       "      <td>9659</td>\n",
       "    </tr>\n",
       "    <tr>\n",
       "      <th>A0G</th>\n",
       "      <td>36264</td>\n",
       "      <td>21153</td>\n",
       "      <td>14967</td>\n",
       "    </tr>\n",
       "  </tbody>\n",
       "</table>\n",
       "</div>"
      ],
      "text/plain": [
       "                 Population, 2011  Total private dwellings, 2011  \\\n",
       "Geographic name                                                    \n",
       "A0A                         46297                          23950   \n",
       "A0B                         20985                          12585   \n",
       "A0C                         12834                           8272   \n",
       "A0E                         23384                          12733   \n",
       "A0G                         36264                          21153   \n",
       "\n",
       "                 Private dwellings occupied by usual residents, 2011  \n",
       "Geographic name                                                       \n",
       "A0A                                                          18701    \n",
       "A0B                                                           8854    \n",
       "A0C                                                           5482    \n",
       "A0E                                                           9659    \n",
       "A0G                                                          14967    "
      ]
     },
     "execution_count": 24,
     "metadata": {},
     "output_type": "execute_result"
    }
   ],
   "source": [
    "pops.head()"
   ]
  },
  {
   "cell_type": "code",
   "execution_count": 90,
   "metadata": {
    "collapsed": false
   },
   "outputs": [
    {
     "data": {
      "text/plain": [
       "Index([u'Population, 2011', u'Total private dwellings, 2011',\n",
       "       u'Private dwellings occupied by usual residents, 2011'],\n",
       "      dtype='object')"
      ]
     },
     "execution_count": 90,
     "metadata": {},
     "output_type": "execute_result"
    }
   ],
   "source": [
    "pops.columns"
   ]
  },
  {
   "cell_type": "code",
   "execution_count": 25,
   "metadata": {
    "collapsed": false
   },
   "outputs": [],
   "source": [
    "nums = [\"1\", \"2\", \"3\", \"4\", \"6\", \"7\", \"9\"]\n",
    "letts = \"ABCEGHJKLMNPRSTVWXYZ\"\n",
    "MTL_POSTCODES = set(['H%s%s' % xx for xx in itertools.product(nums, letts)])\n",
    "MTL_POSTCODES.update([\"H5A\", \"H5B\", \"H0M\", \"H8N\", \"H8P\", \"H8R\", \"H8S\", \"H8T\", \"H8Y\", \"H8Z\"])\n",
    "MTL_POSTCODES.difference_update([\"H7Z\", \"H9Y\", \"H9Z\", \"H9V\", \"H9T\", \"H9N\", \"H9M\", \"H9L\"])"
   ]
  },
  {
   "cell_type": "code",
   "execution_count": 26,
   "metadata": {
    "collapsed": false
   },
   "outputs": [],
   "source": [
    "MTL_POSTCODES = sorted(list(MTL_POSTCODES))"
   ]
  },
  {
   "cell_type": "markdown",
   "metadata": {},
   "source": [
    "Filter to include only Montreal"
   ]
  },
  {
   "cell_type": "code",
   "execution_count": 29,
   "metadata": {
    "collapsed": false
   },
   "outputs": [],
   "source": [
    "pops = pops.loc[list(MTL_POSTCODES)]"
   ]
  },
  {
   "cell_type": "code",
   "execution_count": 30,
   "metadata": {
    "collapsed": false
   },
   "outputs": [
    {
     "data": {
      "text/html": [
       "<div>\n",
       "<table border=\"1\" class=\"dataframe\">\n",
       "  <thead>\n",
       "    <tr style=\"text-align: right;\">\n",
       "      <th></th>\n",
       "      <th>Population, 2011</th>\n",
       "      <th>Total private dwellings, 2011</th>\n",
       "      <th>Private dwellings occupied by usual residents, 2011</th>\n",
       "    </tr>\n",
       "    <tr>\n",
       "      <th>Geographic name</th>\n",
       "      <th></th>\n",
       "      <th></th>\n",
       "      <th></th>\n",
       "    </tr>\n",
       "  </thead>\n",
       "  <tbody>\n",
       "    <tr>\n",
       "      <th>H0M</th>\n",
       "      <td>NaN</td>\n",
       "      <td>NaN</td>\n",
       "      <td>NaN</td>\n",
       "    </tr>\n",
       "    <tr>\n",
       "      <th>H1A</th>\n",
       "      <td>32432</td>\n",
       "      <td>14471</td>\n",
       "      <td>13885</td>\n",
       "    </tr>\n",
       "    <tr>\n",
       "      <th>H1B</th>\n",
       "      <td>19854</td>\n",
       "      <td>9171</td>\n",
       "      <td>8772</td>\n",
       "    </tr>\n",
       "    <tr>\n",
       "      <th>H1C</th>\n",
       "      <td>13659</td>\n",
       "      <td>4384</td>\n",
       "      <td>4273</td>\n",
       "    </tr>\n",
       "    <tr>\n",
       "      <th>H1E</th>\n",
       "      <td>43294</td>\n",
       "      <td>17238</td>\n",
       "      <td>16630</td>\n",
       "    </tr>\n",
       "  </tbody>\n",
       "</table>\n",
       "</div>"
      ],
      "text/plain": [
       "                 Population, 2011  Total private dwellings, 2011  \\\n",
       "Geographic name                                                    \n",
       "H0M                           NaN                            NaN   \n",
       "H1A                         32432                          14471   \n",
       "H1B                         19854                           9171   \n",
       "H1C                         13659                           4384   \n",
       "H1E                         43294                          17238   \n",
       "\n",
       "                 Private dwellings occupied by usual residents, 2011  \n",
       "Geographic name                                                       \n",
       "H0M                                                            NaN    \n",
       "H1A                                                          13885    \n",
       "H1B                                                           8772    \n",
       "H1C                                                           4273    \n",
       "H1E                                                          16630    "
      ]
     },
     "execution_count": 30,
     "metadata": {},
     "output_type": "execute_result"
    }
   ],
   "source": [
    "pops.head()"
   ]
  },
  {
   "cell_type": "markdown",
   "metadata": {},
   "source": [
    "Read in businesses"
   ]
  },
  {
   "cell_type": "code",
   "execution_count": 32,
   "metadata": {
    "collapsed": false
   },
   "outputs": [
    {
     "name": "stderr",
     "output_type": "stream",
     "text": [
      "/usr/local/lib/python2.7/dist-packages/IPython/core/interactiveshell.py:2902: DtypeWarning: Columns (79,91,93,94,95,96,109) have mixed types. Specify dtype option on import or set low_memory=False.\n",
      "  interactivity=interactivity, compiler=compiler, result=result)\n"
     ]
    }
   ],
   "source": [
    "business = pd.read_csv(BASICBIZ, index_col='business_id')"
   ]
  },
  {
   "cell_type": "code",
   "execution_count": 51,
   "metadata": {
    "collapsed": false
   },
   "outputs": [],
   "source": [
    "postcode_re = re.compile(\"QC (?P<fsa>H[0-9][A-Z]) (?P<ldu>[0-9][A-Z][0-9])\")"
   ]
  },
  {
   "cell_type": "code",
   "execution_count": 52,
   "metadata": {
    "collapsed": false
   },
   "outputs": [
    {
     "name": "stdout",
     "output_type": "stream",
     "text": [
      "{'fsa': 'H1W', 'ldu': '1R7'}\n"
     ]
    }
   ],
   "source": [
    "match = postcode_re.search(business.full_address.ix[0])\n",
    "print match.groupdict()"
   ]
  },
  {
   "cell_type": "code",
   "execution_count": 70,
   "metadata": {
    "collapsed": false
   },
   "outputs": [],
   "source": [
    "matches = business.full_address.str.findall(postcode_re)"
   ]
  },
  {
   "cell_type": "code",
   "execution_count": 77,
   "metadata": {
    "collapsed": false
   },
   "outputs": [],
   "source": [
    "fsas = matches.str.get(0).str.get(0)"
   ]
  },
  {
   "cell_type": "code",
   "execution_count": 81,
   "metadata": {
    "collapsed": false
   },
   "outputs": [
    {
     "data": {
      "text/plain": [
       "business_id\n",
       "lW9Up8oVTWUEut_R6nZG-g    H1W\n",
       "RZma06CqXbOIMzTQL-eJFQ    NaN\n",
       "GxfgoiDLfs7HC8C_wFsGPw    H1Y\n",
       "yLj-pKIc-V530j1G6ySQ2Q    H1V\n",
       "IY5GFZTZCywC0ylKuG9ebA    H1W\n",
       "Name: full_address, dtype: object"
      ]
     },
     "execution_count": 81,
     "metadata": {},
     "output_type": "execute_result"
    }
   ],
   "source": [
    "fsas.head()"
   ]
  },
  {
   "cell_type": "code",
   "execution_count": 88,
   "metadata": {
    "collapsed": false
   },
   "outputs": [],
   "source": [
    "wpop = business.merge(pops, how='left', left_on=fsas, right_index=True)"
   ]
  },
  {
   "cell_type": "code",
   "execution_count": 92,
   "metadata": {
    "collapsed": false
   },
   "outputs": [],
   "source": [
    "popsonly = wpop.loc[:, [u'Population, 2011', u'Total private dwellings, 2011',\n",
    "       u'Private dwellings occupied by usual residents, 2011']]"
   ]
  },
  {
   "cell_type": "code",
   "execution_count": 96,
   "metadata": {
    "collapsed": false
   },
   "outputs": [],
   "source": [
    "popsonly.rename(columns=dict(zip([u'Population, 2011', u'Total private dwellings, 2011',\n",
    "       u'Private dwellings occupied by usual residents, 2011'], ('pop', 'homes', 'homes_occupied_by_owners'))), inplace=True)"
   ]
  },
  {
   "cell_type": "code",
   "execution_count": 98,
   "metadata": {
    "collapsed": false
   },
   "outputs": [],
   "source": [
    "popsonly.to_csv(\"data/business_local_population.csv\")"
   ]
  },
  {
   "cell_type": "code",
   "execution_count": 99,
   "metadata": {
    "collapsed": false
   },
   "outputs": [
    {
     "name": "stdout",
     "output_type": "stream",
     "text": [
      "business_id,pop,homes,homes_occupied_by_owners\r\n",
      "lW9Up8oVTWUEut_R6nZG-g,28422.0,16429.0,15307.0\r\n",
      "RZma06CqXbOIMzTQL-eJFQ,,,\r\n",
      "GxfgoiDLfs7HC8C_wFsGPw,25836.0,14357.0,13749.0\r\n",
      "yLj-pKIc-V530j1G6ySQ2Q,21093.0,12097.0,11357.0\r\n",
      "IY5GFZTZCywC0ylKuG9ebA,28422.0,16429.0,15307.0\r\n",
      "RySnetMQUJKbbtliTt4Nmw,21093.0,12097.0,11357.0\r\n",
      "IYdjcA92wjvM5RtPZ3C7kw,28928.0,14958.0,14276.0\r\n",
      "pvbBfLIVJ_5sJXUTAKmkng,24490.0,10638.0,10177.0\r\n",
      "A9yOopsy2bQgStF3Y6lSyA,21093.0,12097.0,11357.0\r\n"
     ]
    }
   ],
   "source": [
    "!head data/business_local_population.csv"
   ]
  },
  {
   "cell_type": "code",
   "execution_count": null,
   "metadata": {
    "collapsed": true
   },
   "outputs": [],
   "source": []
  }
 ],
 "metadata": {
  "kernelspec": {
   "display_name": "Python 2",
   "language": "python",
   "name": "python2"
  },
  "language_info": {
   "codemirror_mode": {
    "name": "ipython",
    "version": 2
   },
   "file_extension": ".py",
   "mimetype": "text/x-python",
   "name": "python",
   "nbconvert_exporter": "python",
   "pygments_lexer": "ipython2",
   "version": "2.7.6"
  }
 },
 "nbformat": 4,
 "nbformat_minor": 0
}
