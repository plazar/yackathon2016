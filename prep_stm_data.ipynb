{
 "cells": [
  {
   "cell_type": "code",
   "execution_count": 1,
   "metadata": {
    "collapsed": true
   },
   "outputs": [],
   "source": [
    "import matplotlib.pyplot as plt\n",
    "import numpy as np\n",
    "import pandas as pd"
   ]
  },
  {
   "cell_type": "code",
   "execution_count": 63,
   "metadata": {
    "collapsed": true
   },
   "outputs": [],
   "source": [
    "import ipy_progressbar"
   ]
  },
  {
   "cell_type": "code",
   "execution_count": 87,
   "metadata": {
    "collapsed": false
   },
   "outputs": [],
   "source": [
    "import re\n",
    "import pprint"
   ]
  },
  {
   "cell_type": "code",
   "execution_count": 81,
   "metadata": {
    "collapsed": true
   },
   "outputs": [],
   "source": [
    "STMSTOPS = \"data/stops.txt\"\n",
    "BASICBIZ = \"yelp_total.csv\""
   ]
  },
  {
   "cell_type": "code",
   "execution_count": 3,
   "metadata": {
    "collapsed": true
   },
   "outputs": [],
   "source": [
    "stops = pd.read_csv(STMSTOPS)"
   ]
  },
  {
   "cell_type": "code",
   "execution_count": 18,
   "metadata": {
    "collapsed": true
   },
   "outputs": [],
   "source": [
    "metro_re = re.compile(r'http://www\\.stm\\.info/metro/')\n",
    "bus_re = re.compile(r'http://m\\.stm\\.info/fr/horaires/arrets/\\d+/bus')"
   ]
  },
  {
   "cell_type": "code",
   "execution_count": 19,
   "metadata": {
    "collapsed": false
   },
   "outputs": [],
   "source": [
    "imetro = stops.stop_url.str.match(metro_re)"
   ]
  },
  {
   "cell_type": "code",
   "execution_count": 34,
   "metadata": {
    "collapsed": false
   },
   "outputs": [],
   "source": [
    "stop_type = []\n",
    "for url in stops.stop_url:\n",
    "    if metro_re.match(url):\n",
    "        stop_type.append('metro')\n",
    "    elif bus_re.match(url):\n",
    "        stop_type.append('bus')\n",
    "    else:\n",
    "        stop_type.append(None)\n",
    "stops['stop_type'] = stop_type\n",
    "stops['stop_type'] = stops['stop_type'].astype('category')"
   ]
  },
  {
   "cell_type": "code",
   "execution_count": 56,
   "metadata": {
    "collapsed": false
   },
   "outputs": [
    {
     "data": {
      "text/html": [
       "<div>\n",
       "<table border=\"1\" class=\"dataframe\">\n",
       "  <thead>\n",
       "    <tr style=\"text-align: right;\">\n",
       "      <th></th>\n",
       "      <th>stop_id</th>\n",
       "      <th>stop_code</th>\n",
       "      <th>stop_name</th>\n",
       "      <th>stop_lat</th>\n",
       "      <th>stop_lon</th>\n",
       "      <th>stop_url</th>\n",
       "      <th>wheelchair_boarding</th>\n",
       "      <th>stop_type</th>\n",
       "    </tr>\n",
       "  </thead>\n",
       "  <tbody>\n",
       "    <tr>\n",
       "      <th>0</th>\n",
       "      <td>1</td>\n",
       "      <td>10280</td>\n",
       "      <td>Station Henri-Bourassa</td>\n",
       "      <td>45.556109</td>\n",
       "      <td>-73.667452</td>\n",
       "      <td>http://www.stm.info/metro/M01.htm</td>\n",
       "      <td>1</td>\n",
       "      <td>metro</td>\n",
       "    </tr>\n",
       "    <tr>\n",
       "      <th>1</th>\n",
       "      <td>10</td>\n",
       "      <td>10262</td>\n",
       "      <td>Station Sherbrooke</td>\n",
       "      <td>45.518345</td>\n",
       "      <td>-73.568251</td>\n",
       "      <td>http://www.stm.info/metro/M10.htm</td>\n",
       "      <td>2</td>\n",
       "      <td>metro</td>\n",
       "    </tr>\n",
       "    <tr>\n",
       "      <th>2</th>\n",
       "      <td>100006</td>\n",
       "      <td>61396</td>\n",
       "      <td>Sainte-Anne / Sainte-Marie</td>\n",
       "      <td>45.402742</td>\n",
       "      <td>-73.947489</td>\n",
       "      <td>http://m.stm.info/fr/horaires/arrets/61396/bus</td>\n",
       "      <td>2</td>\n",
       "      <td>bus</td>\n",
       "    </tr>\n",
       "    <tr>\n",
       "      <th>3</th>\n",
       "      <td>100007</td>\n",
       "      <td>61503</td>\n",
       "      <td>Robert / Cluny</td>\n",
       "      <td>45.580406</td>\n",
       "      <td>-73.607774</td>\n",
       "      <td>http://m.stm.info/fr/horaires/arrets/61503/bus</td>\n",
       "      <td>1</td>\n",
       "      <td>bus</td>\n",
       "    </tr>\n",
       "    <tr>\n",
       "      <th>4</th>\n",
       "      <td>100009</td>\n",
       "      <td>61506</td>\n",
       "      <td>du Bois-de-Boulogne / stationnement</td>\n",
       "      <td>45.541494</td>\n",
       "      <td>-73.689973</td>\n",
       "      <td>http://m.stm.info/fr/horaires/arrets/61506/bus</td>\n",
       "      <td>2</td>\n",
       "      <td>bus</td>\n",
       "    </tr>\n",
       "  </tbody>\n",
       "</table>\n",
       "</div>"
      ],
      "text/plain": [
       "   stop_id  stop_code                            stop_name   stop_lat  \\\n",
       "0        1      10280               Station Henri-Bourassa  45.556109   \n",
       "1       10      10262                   Station Sherbrooke  45.518345   \n",
       "2   100006      61396           Sainte-Anne / Sainte-Marie  45.402742   \n",
       "3   100007      61503                       Robert / Cluny  45.580406   \n",
       "4   100009      61506  du Bois-de-Boulogne / stationnement  45.541494   \n",
       "\n",
       "    stop_lon                                        stop_url  \\\n",
       "0 -73.667452               http://www.stm.info/metro/M01.htm   \n",
       "1 -73.568251               http://www.stm.info/metro/M10.htm   \n",
       "2 -73.947489  http://m.stm.info/fr/horaires/arrets/61396/bus   \n",
       "3 -73.607774  http://m.stm.info/fr/horaires/arrets/61503/bus   \n",
       "4 -73.689973  http://m.stm.info/fr/horaires/arrets/61506/bus   \n",
       "\n",
       "   wheelchair_boarding stop_type  \n",
       "0                    1     metro  \n",
       "1                    2     metro  \n",
       "2                    2       bus  \n",
       "3                    1       bus  \n",
       "4                    2       bus  "
      ]
     },
     "execution_count": 56,
     "metadata": {},
     "output_type": "execute_result"
    }
   ],
   "source": [
    "stops.head()"
   ]
  },
  {
   "cell_type": "code",
   "execution_count": 82,
   "metadata": {
    "collapsed": false
   },
   "outputs": [
    {
     "name": "stderr",
     "output_type": "stream",
     "text": [
      "/usr/local/lib/python2.7/dist-packages/IPython/core/interactiveshell.py:2902: DtypeWarning: Columns (79,91,93,94,95,96,109) have mixed types. Specify dtype option on import or set low_memory=False.\n",
      "  interactivity=interactivity, compiler=compiler, result=result)\n"
     ]
    }
   ],
   "source": [
    "business = pd.read_csv(BASICBIZ, index_col='business_id')"
   ]
  },
  {
   "cell_type": "code",
   "execution_count": 92,
   "metadata": {
    "collapsed": false
   },
   "outputs": [
    {
     "data": {
      "text/html": [
       "<div>\n",
       "<table border=\"1\" class=\"dataframe\">\n",
       "  <thead>\n",
       "    <tr style=\"text-align: right;\">\n",
       "      <th></th>\n",
       "      <th>Unnamed: 0</th>\n",
       "      <th>full_address</th>\n",
       "      <th>hours.Friday.close</th>\n",
       "      <th>hours.Friday.open</th>\n",
       "      <th>hours.Tuesday.close</th>\n",
       "      <th>hours.Tuesday.open</th>\n",
       "      <th>hours.Thursday.close</th>\n",
       "      <th>hours.Thursday.open</th>\n",
       "      <th>hours.Wednesday.close</th>\n",
       "      <th>hours.Wednesday.open</th>\n",
       "      <th>...</th>\n",
       "      <th>checkin_info.2-4</th>\n",
       "      <th>checkin_info.2-1</th>\n",
       "      <th>checkin_info.2-5</th>\n",
       "      <th>checkin_info.1-1</th>\n",
       "      <th>checkin_info.23-6</th>\n",
       "      <th>checkin_info.23-3</th>\n",
       "      <th>checkin_info.0-3</th>\n",
       "      <th>checkin_info.1-2</th>\n",
       "      <th>checkin_info.1-4</th>\n",
       "      <th>checkin_info.0-0</th>\n",
       "    </tr>\n",
       "    <tr>\n",
       "      <th>business_id</th>\n",
       "      <th></th>\n",
       "      <th></th>\n",
       "      <th></th>\n",
       "      <th></th>\n",
       "      <th></th>\n",
       "      <th></th>\n",
       "      <th></th>\n",
       "      <th></th>\n",
       "      <th></th>\n",
       "      <th></th>\n",
       "      <th></th>\n",
       "      <th></th>\n",
       "      <th></th>\n",
       "      <th></th>\n",
       "      <th></th>\n",
       "      <th></th>\n",
       "      <th></th>\n",
       "      <th></th>\n",
       "      <th></th>\n",
       "      <th></th>\n",
       "      <th></th>\n",
       "    </tr>\n",
       "  </thead>\n",
       "  <tbody>\n",
       "    <tr>\n",
       "      <th>lW9Up8oVTWUEut_R6nZG-g</th>\n",
       "      <td>1</td>\n",
       "      <td>3606 Rue Ontario Est\\nRosemont-La Petite-Patri...</td>\n",
       "      <td>00:00</td>\n",
       "      <td>08:00</td>\n",
       "      <td>00:00</td>\n",
       "      <td>08:00</td>\n",
       "      <td>00:00</td>\n",
       "      <td>08:00</td>\n",
       "      <td>00:00</td>\n",
       "      <td>08:00</td>\n",
       "      <td>...</td>\n",
       "      <td>NaN</td>\n",
       "      <td>NaN</td>\n",
       "      <td>NaN</td>\n",
       "      <td>NaN</td>\n",
       "      <td>NaN</td>\n",
       "      <td>NaN</td>\n",
       "      <td>NaN</td>\n",
       "      <td>NaN</td>\n",
       "      <td>NaN</td>\n",
       "      <td>NaN</td>\n",
       "    </tr>\n",
       "    <tr>\n",
       "      <th>RZma06CqXbOIMzTQL-eJFQ</th>\n",
       "      <td>2</td>\n",
       "      <td>10715 Boulevard Pie\\nMontréal-Nord\\nMontréal, ...</td>\n",
       "      <td>01:00</td>\n",
       "      <td>11:00</td>\n",
       "      <td>23:00</td>\n",
       "      <td>11:00</td>\n",
       "      <td>01:00</td>\n",
       "      <td>11:00</td>\n",
       "      <td>23:00</td>\n",
       "      <td>11:00</td>\n",
       "      <td>...</td>\n",
       "      <td>NaN</td>\n",
       "      <td>NaN</td>\n",
       "      <td>NaN</td>\n",
       "      <td>NaN</td>\n",
       "      <td>NaN</td>\n",
       "      <td>NaN</td>\n",
       "      <td>NaN</td>\n",
       "      <td>NaN</td>\n",
       "      <td>NaN</td>\n",
       "      <td>NaN</td>\n",
       "    </tr>\n",
       "    <tr>\n",
       "      <th>GxfgoiDLfs7HC8C_wFsGPw</th>\n",
       "      <td>3</td>\n",
       "      <td>3001 Masson Rue\\nRosemont-La Petite-Patrie\\nMo...</td>\n",
       "      <td>NaN</td>\n",
       "      <td>NaN</td>\n",
       "      <td>NaN</td>\n",
       "      <td>NaN</td>\n",
       "      <td>NaN</td>\n",
       "      <td>NaN</td>\n",
       "      <td>NaN</td>\n",
       "      <td>NaN</td>\n",
       "      <td>...</td>\n",
       "      <td>NaN</td>\n",
       "      <td>NaN</td>\n",
       "      <td>NaN</td>\n",
       "      <td>NaN</td>\n",
       "      <td>NaN</td>\n",
       "      <td>NaN</td>\n",
       "      <td>NaN</td>\n",
       "      <td>NaN</td>\n",
       "      <td>NaN</td>\n",
       "      <td>NaN</td>\n",
       "    </tr>\n",
       "    <tr>\n",
       "      <th>yLj-pKIc-V530j1G6ySQ2Q</th>\n",
       "      <td>4</td>\n",
       "      <td>5300 rue Sherbrooke E\\nRosemont-La Petite-Patr...</td>\n",
       "      <td>23:00</td>\n",
       "      <td>11:30</td>\n",
       "      <td>21:00</td>\n",
       "      <td>11:30</td>\n",
       "      <td>21:00</td>\n",
       "      <td>11:30</td>\n",
       "      <td>21:00</td>\n",
       "      <td>11:30</td>\n",
       "      <td>...</td>\n",
       "      <td>NaN</td>\n",
       "      <td>NaN</td>\n",
       "      <td>NaN</td>\n",
       "      <td>NaN</td>\n",
       "      <td>NaN</td>\n",
       "      <td>NaN</td>\n",
       "      <td>NaN</td>\n",
       "      <td>NaN</td>\n",
       "      <td>NaN</td>\n",
       "      <td>NaN</td>\n",
       "    </tr>\n",
       "    <tr>\n",
       "      <th>IY5GFZTZCywC0ylKuG9ebA</th>\n",
       "      <td>5</td>\n",
       "      <td>2901 Sherbrooke Rue E\\nRosemont-La Petite-Patr...</td>\n",
       "      <td>NaN</td>\n",
       "      <td>NaN</td>\n",
       "      <td>NaN</td>\n",
       "      <td>NaN</td>\n",
       "      <td>NaN</td>\n",
       "      <td>NaN</td>\n",
       "      <td>NaN</td>\n",
       "      <td>NaN</td>\n",
       "      <td>...</td>\n",
       "      <td>NaN</td>\n",
       "      <td>NaN</td>\n",
       "      <td>NaN</td>\n",
       "      <td>NaN</td>\n",
       "      <td>NaN</td>\n",
       "      <td>NaN</td>\n",
       "      <td>NaN</td>\n",
       "      <td>NaN</td>\n",
       "      <td>NaN</td>\n",
       "      <td>NaN</td>\n",
       "    </tr>\n",
       "  </tbody>\n",
       "</table>\n",
       "<p>5 rows × 280 columns</p>\n",
       "</div>"
      ],
      "text/plain": [
       "                        Unnamed: 0  \\\n",
       "business_id                          \n",
       "lW9Up8oVTWUEut_R6nZG-g           1   \n",
       "RZma06CqXbOIMzTQL-eJFQ           2   \n",
       "GxfgoiDLfs7HC8C_wFsGPw           3   \n",
       "yLj-pKIc-V530j1G6ySQ2Q           4   \n",
       "IY5GFZTZCywC0ylKuG9ebA           5   \n",
       "\n",
       "                                                             full_address  \\\n",
       "business_id                                                                 \n",
       "lW9Up8oVTWUEut_R6nZG-g  3606 Rue Ontario Est\\nRosemont-La Petite-Patri...   \n",
       "RZma06CqXbOIMzTQL-eJFQ  10715 Boulevard Pie\\nMontréal-Nord\\nMontréal, ...   \n",
       "GxfgoiDLfs7HC8C_wFsGPw  3001 Masson Rue\\nRosemont-La Petite-Patrie\\nMo...   \n",
       "yLj-pKIc-V530j1G6ySQ2Q  5300 rue Sherbrooke E\\nRosemont-La Petite-Patr...   \n",
       "IY5GFZTZCywC0ylKuG9ebA  2901 Sherbrooke Rue E\\nRosemont-La Petite-Patr...   \n",
       "\n",
       "                       hours.Friday.close hours.Friday.open  \\\n",
       "business_id                                                   \n",
       "lW9Up8oVTWUEut_R6nZG-g              00:00             08:00   \n",
       "RZma06CqXbOIMzTQL-eJFQ              01:00             11:00   \n",
       "GxfgoiDLfs7HC8C_wFsGPw                NaN               NaN   \n",
       "yLj-pKIc-V530j1G6ySQ2Q              23:00             11:30   \n",
       "IY5GFZTZCywC0ylKuG9ebA                NaN               NaN   \n",
       "\n",
       "                       hours.Tuesday.close hours.Tuesday.open  \\\n",
       "business_id                                                     \n",
       "lW9Up8oVTWUEut_R6nZG-g               00:00              08:00   \n",
       "RZma06CqXbOIMzTQL-eJFQ               23:00              11:00   \n",
       "GxfgoiDLfs7HC8C_wFsGPw                 NaN                NaN   \n",
       "yLj-pKIc-V530j1G6ySQ2Q               21:00              11:30   \n",
       "IY5GFZTZCywC0ylKuG9ebA                 NaN                NaN   \n",
       "\n",
       "                       hours.Thursday.close hours.Thursday.open  \\\n",
       "business_id                                                       \n",
       "lW9Up8oVTWUEut_R6nZG-g                00:00               08:00   \n",
       "RZma06CqXbOIMzTQL-eJFQ                01:00               11:00   \n",
       "GxfgoiDLfs7HC8C_wFsGPw                  NaN                 NaN   \n",
       "yLj-pKIc-V530j1G6ySQ2Q                21:00               11:30   \n",
       "IY5GFZTZCywC0ylKuG9ebA                  NaN                 NaN   \n",
       "\n",
       "                       hours.Wednesday.close hours.Wednesday.open  \\\n",
       "business_id                                                         \n",
       "lW9Up8oVTWUEut_R6nZG-g                 00:00                08:00   \n",
       "RZma06CqXbOIMzTQL-eJFQ                 23:00                11:00   \n",
       "GxfgoiDLfs7HC8C_wFsGPw                   NaN                  NaN   \n",
       "yLj-pKIc-V530j1G6ySQ2Q                 21:00                11:30   \n",
       "IY5GFZTZCywC0ylKuG9ebA                   NaN                  NaN   \n",
       "\n",
       "                             ...        checkin_info.2-4 checkin_info.2-1  \\\n",
       "business_id                  ...                                            \n",
       "lW9Up8oVTWUEut_R6nZG-g       ...                     NaN              NaN   \n",
       "RZma06CqXbOIMzTQL-eJFQ       ...                     NaN              NaN   \n",
       "GxfgoiDLfs7HC8C_wFsGPw       ...                     NaN              NaN   \n",
       "yLj-pKIc-V530j1G6ySQ2Q       ...                     NaN              NaN   \n",
       "IY5GFZTZCywC0ylKuG9ebA       ...                     NaN              NaN   \n",
       "\n",
       "                       checkin_info.2-5 checkin_info.1-1 checkin_info.23-6  \\\n",
       "business_id                                                                  \n",
       "lW9Up8oVTWUEut_R6nZG-g              NaN              NaN               NaN   \n",
       "RZma06CqXbOIMzTQL-eJFQ              NaN              NaN               NaN   \n",
       "GxfgoiDLfs7HC8C_wFsGPw              NaN              NaN               NaN   \n",
       "yLj-pKIc-V530j1G6ySQ2Q              NaN              NaN               NaN   \n",
       "IY5GFZTZCywC0ylKuG9ebA              NaN              NaN               NaN   \n",
       "\n",
       "                       checkin_info.23-3  checkin_info.0-3 checkin_info.1-2  \\\n",
       "business_id                                                                   \n",
       "lW9Up8oVTWUEut_R6nZG-g               NaN               NaN              NaN   \n",
       "RZma06CqXbOIMzTQL-eJFQ               NaN               NaN              NaN   \n",
       "GxfgoiDLfs7HC8C_wFsGPw               NaN               NaN              NaN   \n",
       "yLj-pKIc-V530j1G6ySQ2Q               NaN               NaN              NaN   \n",
       "IY5GFZTZCywC0ylKuG9ebA               NaN               NaN              NaN   \n",
       "\n",
       "                        checkin_info.1-4 checkin_info.0-0  \n",
       "business_id                                                \n",
       "lW9Up8oVTWUEut_R6nZG-g               NaN              NaN  \n",
       "RZma06CqXbOIMzTQL-eJFQ               NaN              NaN  \n",
       "GxfgoiDLfs7HC8C_wFsGPw               NaN              NaN  \n",
       "yLj-pKIc-V530j1G6ySQ2Q               NaN              NaN  \n",
       "IY5GFZTZCywC0ylKuG9ebA               NaN              NaN  \n",
       "\n",
       "[5 rows x 280 columns]"
      ]
     },
     "execution_count": 92,
     "metadata": {},
     "output_type": "execute_result"
    }
   ],
   "source": [
    "business.head()"
   ]
  },
  {
   "cell_type": "code",
   "execution_count": 93,
   "metadata": {
    "collapsed": true
   },
   "outputs": [],
   "source": [
    "ismetro = stops['stop_type'] == 'metro'\n",
    "metros = stops[ismetro]\n",
    "isbus = stops['stop_type'] == 'bus'\n",
    "buses = stops[isbus]"
   ]
  },
  {
   "cell_type": "code",
   "execution_count": 94,
   "metadata": {
    "collapsed": false
   },
   "outputs": [],
   "source": [
    "mindist = []\n",
    "for lon, lat in ipy_progressbar.ProgressBar(zip(business.longitude, business.latitude)):\n",
    "    result = []\n",
    "    for stp in [metros, buses]:\n",
    "        dlon = lon - stp.stop_lon\n",
    "        dlat = lat - stp.stop_lat\n",
    "        dists = np.sqrt(dlon**2 + dlat**2)\n",
    "        imin = np.argmin(dists)\n",
    "        result.extend((dists[imin], stp.stop_id.ix[imin], stp.stop_type.ix[imin]))\n",
    "    mindist.append(result)"
   ]
  },
  {
   "cell_type": "code",
   "execution_count": 95,
   "metadata": {
    "collapsed": false
   },
   "outputs": [],
   "source": [
    "stm_prox = pd.DataFrame(mindist, columns=('closest_mstop_dist', 'closest_mstop_id', 'closest_mstop_type', 'closest_bstop_dist', 'closest_bstop_id', 'closest_bstop_type'), index=business.index)"
   ]
  },
  {
   "cell_type": "code",
   "execution_count": 96,
   "metadata": {
    "collapsed": false
   },
   "outputs": [
    {
     "data": {
      "text/html": [
       "<div>\n",
       "<table border=\"1\" class=\"dataframe\">\n",
       "  <thead>\n",
       "    <tr style=\"text-align: right;\">\n",
       "      <th></th>\n",
       "      <th>closest_mstop_dist</th>\n",
       "      <th>closest_mstop_id</th>\n",
       "      <th>closest_mstop_type</th>\n",
       "      <th>closest_bstop_dist</th>\n",
       "      <th>closest_bstop_id</th>\n",
       "      <th>closest_bstop_type</th>\n",
       "    </tr>\n",
       "    <tr>\n",
       "      <th>business_id</th>\n",
       "      <th></th>\n",
       "      <th></th>\n",
       "      <th></th>\n",
       "      <th></th>\n",
       "      <th></th>\n",
       "      <th></th>\n",
       "    </tr>\n",
       "  </thead>\n",
       "  <tbody>\n",
       "    <tr>\n",
       "      <th>lW9Up8oVTWUEut_R6nZG-g</th>\n",
       "      <td>0.007192</td>\n",
       "      <td>25</td>\n",
       "      <td>metro</td>\n",
       "      <td>0.000308</td>\n",
       "      <td>120961</td>\n",
       "      <td>bus</td>\n",
       "    </tr>\n",
       "    <tr>\n",
       "      <th>RZma06CqXbOIMzTQL-eJFQ</th>\n",
       "      <td>0.043264</td>\n",
       "      <td>3</td>\n",
       "      <td>metro</td>\n",
       "      <td>0.000325</td>\n",
       "      <td>1800551</td>\n",
       "      <td>bus</td>\n",
       "    </tr>\n",
       "    <tr>\n",
       "      <th>GxfgoiDLfs7HC8C_wFsGPw</th>\n",
       "      <td>0.021392</td>\n",
       "      <td>26</td>\n",
       "      <td>metro</td>\n",
       "      <td>0.000157</td>\n",
       "      <td>115294</td>\n",
       "      <td>bus</td>\n",
       "    </tr>\n",
       "    <tr>\n",
       "      <th>yLj-pKIc-V530j1G6ySQ2Q</th>\n",
       "      <td>0.006017</td>\n",
       "      <td>22</td>\n",
       "      <td>metro</td>\n",
       "      <td>0.000637</td>\n",
       "      <td>119900</td>\n",
       "      <td>bus</td>\n",
       "    </tr>\n",
       "    <tr>\n",
       "      <th>IY5GFZTZCywC0ylKuG9ebA</th>\n",
       "      <td>0.005044</td>\n",
       "      <td>26</td>\n",
       "      <td>metro</td>\n",
       "      <td>0.000849</td>\n",
       "      <td>118724</td>\n",
       "      <td>bus</td>\n",
       "    </tr>\n",
       "  </tbody>\n",
       "</table>\n",
       "</div>"
      ],
      "text/plain": [
       "                        closest_mstop_dist  closest_mstop_id  \\\n",
       "business_id                                                    \n",
       "lW9Up8oVTWUEut_R6nZG-g            0.007192                25   \n",
       "RZma06CqXbOIMzTQL-eJFQ            0.043264                 3   \n",
       "GxfgoiDLfs7HC8C_wFsGPw            0.021392                26   \n",
       "yLj-pKIc-V530j1G6ySQ2Q            0.006017                22   \n",
       "IY5GFZTZCywC0ylKuG9ebA            0.005044                26   \n",
       "\n",
       "                       closest_mstop_type  closest_bstop_dist  \\\n",
       "business_id                                                     \n",
       "lW9Up8oVTWUEut_R6nZG-g              metro            0.000308   \n",
       "RZma06CqXbOIMzTQL-eJFQ              metro            0.000325   \n",
       "GxfgoiDLfs7HC8C_wFsGPw              metro            0.000157   \n",
       "yLj-pKIc-V530j1G6ySQ2Q              metro            0.000637   \n",
       "IY5GFZTZCywC0ylKuG9ebA              metro            0.000849   \n",
       "\n",
       "                        closest_bstop_id closest_bstop_type  \n",
       "business_id                                                  \n",
       "lW9Up8oVTWUEut_R6nZG-g            120961                bus  \n",
       "RZma06CqXbOIMzTQL-eJFQ           1800551                bus  \n",
       "GxfgoiDLfs7HC8C_wFsGPw            115294                bus  \n",
       "yLj-pKIc-V530j1G6ySQ2Q            119900                bus  \n",
       "IY5GFZTZCywC0ylKuG9ebA            118724                bus  "
      ]
     },
     "execution_count": 96,
     "metadata": {},
     "output_type": "execute_result"
    }
   ],
   "source": [
    "stm_prox.head()"
   ]
  },
  {
   "cell_type": "code",
   "execution_count": 97,
   "metadata": {
    "collapsed": true
   },
   "outputs": [],
   "source": [
    "stm_prox.to_csv(\"data/closest_bus-metro_stops.csv\")"
   ]
  },
  {
   "cell_type": "code",
   "execution_count": 98,
   "metadata": {
    "collapsed": false
   },
   "outputs": [
    {
     "name": "stdout",
     "output_type": "stream",
     "text": [
      "business_id,closest_mstop_dist,closest_mstop_id,closest_mstop_type,closest_bstop_dist,closest_bstop_id,closest_bstop_type\r\n",
      "lW9Up8oVTWUEut_R6nZG-g,0.00719181921543,25,metro,0.000308031699746,120961,bus\r\n",
      "RZma06CqXbOIMzTQL-eJFQ,0.0432638167741,3,metro,0.000325377104303,1800551,bus\r\n",
      "GxfgoiDLfs7HC8C_wFsGPw,0.0213923534101,26,metro,0.000156605300042,115294,bus\r\n",
      "yLj-pKIc-V530j1G6ySQ2Q,0.00601657463346,22,metro,0.000636730963596,119900,bus\r\n",
      "IY5GFZTZCywC0ylKuG9ebA,0.00504357888112,26,metro,0.000849245977327,118724,bus\r\n",
      "RySnetMQUJKbbtliTt4Nmw,0.00280648348508,23,metro,0.00255223642557,142122,bus\r\n",
      "IYdjcA92wjvM5RtPZ3C7kw,0.0230580935248,19,metro,0.00260055859384,1602252,bus\r\n",
      "pvbBfLIVJ_5sJXUTAKmkng,0.0284838283417,21,metro,6.97036584413e-05,1701551,bus\r\n",
      "A9yOopsy2bQgStF3Y6lSyA,0.0110805705201,23,metro,0.000245861037986,121572,bus\r\n"
     ]
    }
   ],
   "source": [
    "!head data/closest_bus-metro_stops.csv"
   ]
  },
  {
   "cell_type": "code",
   "execution_count": null,
   "metadata": {
    "collapsed": true
   },
   "outputs": [],
   "source": []
  }
 ],
 "metadata": {
  "hide_input": false,
  "kernelspec": {
   "display_name": "Python 2",
   "language": "python",
   "name": "python2"
  },
  "language_info": {
   "codemirror_mode": {
    "name": "ipython",
    "version": 2
   },
   "file_extension": ".py",
   "mimetype": "text/x-python",
   "name": "python",
   "nbconvert_exporter": "python",
   "pygments_lexer": "ipython2",
   "version": "2.7.6"
  }
 },
 "nbformat": 4,
 "nbformat_minor": 0
}
