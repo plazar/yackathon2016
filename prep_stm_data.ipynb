{
 "cells": [
  {
   "cell_type": "code",
   "execution_count": 1,
   "metadata": {
    "collapsed": true
   },
   "outputs": [],
   "source": [
    "import matplotlib.pyplot as plt\n",
    "import numpy as np\n",
    "import pandas as pd"
   ]
  },
  {
   "cell_type": "code",
   "execution_count": 63,
   "metadata": {
    "collapsed": true
   },
   "outputs": [],
   "source": [
    "import ipy_progressbar"
   ]
  },
  {
   "cell_type": "code",
   "execution_count": 5,
   "metadata": {
    "collapsed": true
   },
   "outputs": [],
   "source": [
    "import re"
   ]
  },
  {
   "cell_type": "code",
   "execution_count": 36,
   "metadata": {
    "collapsed": true
   },
   "outputs": [],
   "source": [
    "STMSTOPS = \"data/stops.txt\"\n",
    "BASICBIZ = \"data/basic_yelp_business_data.csv\""
   ]
  },
  {
   "cell_type": "code",
   "execution_count": 3,
   "metadata": {
    "collapsed": true
   },
   "outputs": [],
   "source": [
    "stops = pd.read_csv(STMSTOPS)"
   ]
  },
  {
   "cell_type": "code",
   "execution_count": 18,
   "metadata": {
    "collapsed": true
   },
   "outputs": [],
   "source": [
    "metro_re = re.compile(r'http://www\\.stm\\.info/metro/')\n",
    "bus_re = re.compile(r'http://m\\.stm\\.info/fr/horaires/arrets/\\d+/bus')"
   ]
  },
  {
   "cell_type": "code",
   "execution_count": 19,
   "metadata": {
    "collapsed": false
   },
   "outputs": [],
   "source": [
    "imetro = stops.stop_url.str.match(metro_re)"
   ]
  },
  {
   "cell_type": "code",
   "execution_count": 34,
   "metadata": {
    "collapsed": false
   },
   "outputs": [],
   "source": [
    "stop_type = []\n",
    "for url in stops.stop_url:\n",
    "    if metro_re.match(url):\n",
    "        stop_type.append('metro')\n",
    "    elif bus_re.match(url):\n",
    "        stop_type.append('bus')\n",
    "    else:\n",
    "        stop_type.append(None)\n",
    "stops['stop_type'] = stop_type\n",
    "stops['stop_type'] = stops['stop_type'].astype('category')"
   ]
  },
  {
   "cell_type": "code",
   "execution_count": 56,
   "metadata": {
    "collapsed": false
   },
   "outputs": [
    {
     "data": {
      "text/html": [
       "<div>\n",
       "<table border=\"1\" class=\"dataframe\">\n",
       "  <thead>\n",
       "    <tr style=\"text-align: right;\">\n",
       "      <th></th>\n",
       "      <th>stop_id</th>\n",
       "      <th>stop_code</th>\n",
       "      <th>stop_name</th>\n",
       "      <th>stop_lat</th>\n",
       "      <th>stop_lon</th>\n",
       "      <th>stop_url</th>\n",
       "      <th>wheelchair_boarding</th>\n",
       "      <th>stop_type</th>\n",
       "    </tr>\n",
       "  </thead>\n",
       "  <tbody>\n",
       "    <tr>\n",
       "      <th>0</th>\n",
       "      <td>1</td>\n",
       "      <td>10280</td>\n",
       "      <td>Station Henri-Bourassa</td>\n",
       "      <td>45.556109</td>\n",
       "      <td>-73.667452</td>\n",
       "      <td>http://www.stm.info/metro/M01.htm</td>\n",
       "      <td>1</td>\n",
       "      <td>metro</td>\n",
       "    </tr>\n",
       "    <tr>\n",
       "      <th>1</th>\n",
       "      <td>10</td>\n",
       "      <td>10262</td>\n",
       "      <td>Station Sherbrooke</td>\n",
       "      <td>45.518345</td>\n",
       "      <td>-73.568251</td>\n",
       "      <td>http://www.stm.info/metro/M10.htm</td>\n",
       "      <td>2</td>\n",
       "      <td>metro</td>\n",
       "    </tr>\n",
       "    <tr>\n",
       "      <th>2</th>\n",
       "      <td>100006</td>\n",
       "      <td>61396</td>\n",
       "      <td>Sainte-Anne / Sainte-Marie</td>\n",
       "      <td>45.402742</td>\n",
       "      <td>-73.947489</td>\n",
       "      <td>http://m.stm.info/fr/horaires/arrets/61396/bus</td>\n",
       "      <td>2</td>\n",
       "      <td>bus</td>\n",
       "    </tr>\n",
       "    <tr>\n",
       "      <th>3</th>\n",
       "      <td>100007</td>\n",
       "      <td>61503</td>\n",
       "      <td>Robert / Cluny</td>\n",
       "      <td>45.580406</td>\n",
       "      <td>-73.607774</td>\n",
       "      <td>http://m.stm.info/fr/horaires/arrets/61503/bus</td>\n",
       "      <td>1</td>\n",
       "      <td>bus</td>\n",
       "    </tr>\n",
       "    <tr>\n",
       "      <th>4</th>\n",
       "      <td>100009</td>\n",
       "      <td>61506</td>\n",
       "      <td>du Bois-de-Boulogne / stationnement</td>\n",
       "      <td>45.541494</td>\n",
       "      <td>-73.689973</td>\n",
       "      <td>http://m.stm.info/fr/horaires/arrets/61506/bus</td>\n",
       "      <td>2</td>\n",
       "      <td>bus</td>\n",
       "    </tr>\n",
       "  </tbody>\n",
       "</table>\n",
       "</div>"
      ],
      "text/plain": [
       "   stop_id  stop_code                            stop_name   stop_lat  \\\n",
       "0        1      10280               Station Henri-Bourassa  45.556109   \n",
       "1       10      10262                   Station Sherbrooke  45.518345   \n",
       "2   100006      61396           Sainte-Anne / Sainte-Marie  45.402742   \n",
       "3   100007      61503                       Robert / Cluny  45.580406   \n",
       "4   100009      61506  du Bois-de-Boulogne / stationnement  45.541494   \n",
       "\n",
       "    stop_lon                                        stop_url  \\\n",
       "0 -73.667452               http://www.stm.info/metro/M01.htm   \n",
       "1 -73.568251               http://www.stm.info/metro/M10.htm   \n",
       "2 -73.947489  http://m.stm.info/fr/horaires/arrets/61396/bus   \n",
       "3 -73.607774  http://m.stm.info/fr/horaires/arrets/61503/bus   \n",
       "4 -73.689973  http://m.stm.info/fr/horaires/arrets/61506/bus   \n",
       "\n",
       "   wheelchair_boarding stop_type  \n",
       "0                    1     metro  \n",
       "1                    2     metro  \n",
       "2                    2       bus  \n",
       "3                    1       bus  \n",
       "4                    2       bus  "
      ]
     },
     "execution_count": 56,
     "metadata": {},
     "output_type": "execute_result"
    }
   ],
   "source": [
    "stops.head()"
   ]
  },
  {
   "cell_type": "code",
   "execution_count": 39,
   "metadata": {
    "collapsed": true
   },
   "outputs": [],
   "source": [
    "business = pd.read_csv(BASICBIZ, index_col='business_id')"
   ]
  },
  {
   "cell_type": "code",
   "execution_count": 42,
   "metadata": {
    "collapsed": false
   },
   "outputs": [
    {
     "data": {
      "text/html": [
       "<div>\n",
       "<table border=\"1\" class=\"dataframe\">\n",
       "  <thead>\n",
       "    <tr style=\"text-align: right;\">\n",
       "      <th></th>\n",
       "      <th>state</th>\n",
       "      <th>longitude</th>\n",
       "      <th>latitude</th>\n",
       "      <th>name</th>\n",
       "      <th>stars</th>\n",
       "    </tr>\n",
       "    <tr>\n",
       "      <th>business_id</th>\n",
       "      <th></th>\n",
       "      <th></th>\n",
       "      <th></th>\n",
       "      <th></th>\n",
       "      <th></th>\n",
       "    </tr>\n",
       "  </thead>\n",
       "  <tbody>\n",
       "    <tr>\n",
       "      <th>lW9Up8oVTWUEut_R6nZG-g</th>\n",
       "      <td>QC</td>\n",
       "      <td>-73.544570</td>\n",
       "      <td>45.545073</td>\n",
       "      <td>Atomic Café</td>\n",
       "      <td>4.0</td>\n",
       "    </tr>\n",
       "    <tr>\n",
       "      <th>rWmYk-i8EF-g07KnVkdlqQ</th>\n",
       "      <td>QC</td>\n",
       "      <td>-73.542120</td>\n",
       "      <td>45.561749</td>\n",
       "      <td>Restaurant Les Princesses</td>\n",
       "      <td>2.5</td>\n",
       "    </tr>\n",
       "    <tr>\n",
       "      <th>RZma06CqXbOIMzTQL-eJFQ</th>\n",
       "      <td>QC</td>\n",
       "      <td>-73.635581</td>\n",
       "      <td>45.589137</td>\n",
       "      <td>La Cage Aux Sports</td>\n",
       "      <td>2.0</td>\n",
       "    </tr>\n",
       "    <tr>\n",
       "      <th>GxfgoiDLfs7HC8C_wFsGPw</th>\n",
       "      <td>QC</td>\n",
       "      <td>-73.574577</td>\n",
       "      <td>45.548671</td>\n",
       "      <td>Boulangerie Première Moisson</td>\n",
       "      <td>4.5</td>\n",
       "    </tr>\n",
       "    <tr>\n",
       "      <th>e1_MTuBa4LTN1E2RKh53Xg</th>\n",
       "      <td>QC</td>\n",
       "      <td>-73.585389</td>\n",
       "      <td>45.555818</td>\n",
       "      <td>Zytynsky's Deli</td>\n",
       "      <td>4.5</td>\n",
       "    </tr>\n",
       "  </tbody>\n",
       "</table>\n",
       "</div>"
      ],
      "text/plain": [
       "                       state  longitude   latitude  \\\n",
       "business_id                                          \n",
       "lW9Up8oVTWUEut_R6nZG-g    QC -73.544570  45.545073   \n",
       "rWmYk-i8EF-g07KnVkdlqQ    QC -73.542120  45.561749   \n",
       "RZma06CqXbOIMzTQL-eJFQ    QC -73.635581  45.589137   \n",
       "GxfgoiDLfs7HC8C_wFsGPw    QC -73.574577  45.548671   \n",
       "e1_MTuBa4LTN1E2RKh53Xg    QC -73.585389  45.555818   \n",
       "\n",
       "                                                name  stars  \n",
       "business_id                                                  \n",
       "lW9Up8oVTWUEut_R6nZG-g                   Atomic Café    4.0  \n",
       "rWmYk-i8EF-g07KnVkdlqQ     Restaurant Les Princesses    2.5  \n",
       "RZma06CqXbOIMzTQL-eJFQ            La Cage Aux Sports    2.0  \n",
       "GxfgoiDLfs7HC8C_wFsGPw  Boulangerie Première Moisson    4.5  \n",
       "e1_MTuBa4LTN1E2RKh53Xg               Zytynsky's Deli    4.5  "
      ]
     },
     "execution_count": 42,
     "metadata": {},
     "output_type": "execute_result"
    }
   ],
   "source": [
    "business.head()"
   ]
  },
  {
   "cell_type": "code",
   "execution_count": 74,
   "metadata": {
    "collapsed": true
   },
   "outputs": [],
   "source": [
    "ismetro = stops['stop_type'] == 'metro'\n",
    "metros = stops[ismetro]\n",
    "isbus = stops['stop_type'] == 'bus'\n",
    "buses = stops[isbus]"
   ]
  },
  {
   "cell_type": "code",
   "execution_count": 75,
   "metadata": {
    "collapsed": false
   },
   "outputs": [],
   "source": [
    "mindist = []\n",
    "for lon, lat in ipy_progressbar.ProgressBar(zip(business.longitude, business.latitude)):\n",
    "    result = []\n",
    "    for stp in [metros, buses]:\n",
    "        dlon = lon - stp.stop_lon\n",
    "        dlat = lat - stp.stop_lat\n",
    "        dists = np.sqrt(dlon**2 + dlat**2)\n",
    "        imin = np.argmin(dists)\n",
    "        result.extend((dists[imin], stp.stop_id.ix[imin], stp.stop_type.ix[imin]))\n",
    "    mindist.append(result)"
   ]
  },
  {
   "cell_type": "code",
   "execution_count": 76,
   "metadata": {
    "collapsed": false
   },
   "outputs": [],
   "source": [
    "stm_prox = pd.DataFrame(mindist, columns=('closest_mstop_dist', 'closest_mstop_id', 'closest_mstop_type', 'closest_bstop_dist', 'closest_bstop_id', 'closest_bstop_type'), index=business.index)"
   ]
  },
  {
   "cell_type": "code",
   "execution_count": 78,
   "metadata": {
    "collapsed": false
   },
   "outputs": [
    {
     "data": {
      "text/html": [
       "<div>\n",
       "<table border=\"1\" class=\"dataframe\">\n",
       "  <thead>\n",
       "    <tr style=\"text-align: right;\">\n",
       "      <th></th>\n",
       "      <th>closest_mstop_dist</th>\n",
       "      <th>closest_mstop_id</th>\n",
       "      <th>closest_mstop_type</th>\n",
       "      <th>closest_bstop_dist</th>\n",
       "      <th>closest_bstop_id</th>\n",
       "      <th>closest_bstop_type</th>\n",
       "    </tr>\n",
       "    <tr>\n",
       "      <th>business_id</th>\n",
       "      <th></th>\n",
       "      <th></th>\n",
       "      <th></th>\n",
       "      <th></th>\n",
       "      <th></th>\n",
       "      <th></th>\n",
       "    </tr>\n",
       "  </thead>\n",
       "  <tbody>\n",
       "    <tr>\n",
       "      <th>lW9Up8oVTWUEut_R6nZG-g</th>\n",
       "      <td>0.007192</td>\n",
       "      <td>25</td>\n",
       "      <td>metro</td>\n",
       "      <td>0.000308</td>\n",
       "      <td>120961</td>\n",
       "      <td>bus</td>\n",
       "    </tr>\n",
       "    <tr>\n",
       "      <th>rWmYk-i8EF-g07KnVkdlqQ</th>\n",
       "      <td>0.005166</td>\n",
       "      <td>23</td>\n",
       "      <td>metro</td>\n",
       "      <td>0.000289</td>\n",
       "      <td>121211</td>\n",
       "      <td>bus</td>\n",
       "    </tr>\n",
       "    <tr>\n",
       "      <th>RZma06CqXbOIMzTQL-eJFQ</th>\n",
       "      <td>0.043264</td>\n",
       "      <td>3</td>\n",
       "      <td>metro</td>\n",
       "      <td>0.000325</td>\n",
       "      <td>1800551</td>\n",
       "      <td>bus</td>\n",
       "    </tr>\n",
       "    <tr>\n",
       "      <th>GxfgoiDLfs7HC8C_wFsGPw</th>\n",
       "      <td>0.021392</td>\n",
       "      <td>26</td>\n",
       "      <td>metro</td>\n",
       "      <td>0.000157</td>\n",
       "      <td>115294</td>\n",
       "      <td>bus</td>\n",
       "    </tr>\n",
       "    <tr>\n",
       "      <th>e1_MTuBa4LTN1E2RKh53Xg</th>\n",
       "      <td>0.015219</td>\n",
       "      <td>64</td>\n",
       "      <td>metro</td>\n",
       "      <td>0.000505</td>\n",
       "      <td>113214</td>\n",
       "      <td>bus</td>\n",
       "    </tr>\n",
       "  </tbody>\n",
       "</table>\n",
       "</div>"
      ],
      "text/plain": [
       "                        closest_mstop_dist  closest_mstop_id  \\\n",
       "business_id                                                    \n",
       "lW9Up8oVTWUEut_R6nZG-g            0.007192                25   \n",
       "rWmYk-i8EF-g07KnVkdlqQ            0.005166                23   \n",
       "RZma06CqXbOIMzTQL-eJFQ            0.043264                 3   \n",
       "GxfgoiDLfs7HC8C_wFsGPw            0.021392                26   \n",
       "e1_MTuBa4LTN1E2RKh53Xg            0.015219                64   \n",
       "\n",
       "                       closest_mstop_type  closest_bstop_dist  \\\n",
       "business_id                                                     \n",
       "lW9Up8oVTWUEut_R6nZG-g              metro            0.000308   \n",
       "rWmYk-i8EF-g07KnVkdlqQ              metro            0.000289   \n",
       "RZma06CqXbOIMzTQL-eJFQ              metro            0.000325   \n",
       "GxfgoiDLfs7HC8C_wFsGPw              metro            0.000157   \n",
       "e1_MTuBa4LTN1E2RKh53Xg              metro            0.000505   \n",
       "\n",
       "                        closest_bstop_id closest_bstop_type  \n",
       "business_id                                                  \n",
       "lW9Up8oVTWUEut_R6nZG-g            120961                bus  \n",
       "rWmYk-i8EF-g07KnVkdlqQ            121211                bus  \n",
       "RZma06CqXbOIMzTQL-eJFQ           1800551                bus  \n",
       "GxfgoiDLfs7HC8C_wFsGPw            115294                bus  \n",
       "e1_MTuBa4LTN1E2RKh53Xg            113214                bus  "
      ]
     },
     "execution_count": 78,
     "metadata": {},
     "output_type": "execute_result"
    }
   ],
   "source": [
    "stm_prox.head()"
   ]
  },
  {
   "cell_type": "code",
   "execution_count": 79,
   "metadata": {
    "collapsed": true
   },
   "outputs": [],
   "source": [
    "stm_prox.to_csv(\"data/closest_bus-metro_stops.csv\")"
   ]
  },
  {
   "cell_type": "code",
   "execution_count": null,
   "metadata": {
    "collapsed": false
   },
   "outputs": [
    {
     "name": "stdout",
     "output_type": "stream",
     "text": [
      "\u001b7\u001b[?47h\u001b[?1h\u001b=\r",
      "business_id,closest_mstop_dist,closest_mstop_id,closest_mstop_type,closest_bstop \b_dist,closest_bstop_id,closest_bstop_type\r\n",
      "lW9Up8oVTWUEut_R6nZG-g,0.00719181923163,25,metro,0.000308031752548,120961,bus\r\n",
      "rWmYk-i8EF-g07KnVkdlqQ,0.00516627381873,23,metro,0.000289003754303,121211,bus\r\n",
      "RZma06CqXbOIMzTQL-eJFQ,0.0432638167741,3,metro,0.000325377104303,1800551,bus\r\n",
      "GxfgoiDLfs7HC8C_wFsGPw,0.0213923534101,26,metro,0.000156605300042,115294,bus\r\n",
      "e1_MTuBa4LTN1E2RKh53Xg,0.015218758449,64,metro,0.000505095367232,113214,bus\r\n",
      "yLj-pKIc-V530j1G6ySQ2Q,0.00601657463346,22,metro,0.000636730963596,119900,bus\r\n",
      "IY5GFZTZCywC0ylKuG9ebA,0.00504357888112,26,metro,0.000849245977327,118724,bus\r\n",
      "g8Ja8BKskzmWHX9VH7B2yg,0.0144520787667,24,metro,0.00020388741992,101260,bus\r\n",
      "Env21pieyFD60kaC0xbmcg,0.00142186768723,20,metro,8.7285279386e-05,121204,bus\r\n",
      "RySnetMQUJKbbtliTt4Nmw,0.002806483495,23,metro,0.00255223643837,142122,bus\r\n",
      "IYdjcA92wjvM5RtPZ3C7kw,0.0230580935248,19,metro,0.00260055859384,1602252,bus\r\n",
      "pvbBfLIVJ_5sJXUTAKmkng,0.0284838283417,21,metro,6.97036584413e-05,1701551,bus\r\n",
      "A9yOopsy2bQgStF3Y6lSyA,0.0110805705201,23,metro,0.000245861037986,121572,bus\r\n",
      "dvXKsHW_WIdRbbE_Jsxx3A,0.00108061258465,23,metro,0.00112086176334,100782,bus\r\n",
      "JqlT41fOvgMQnbL_ZhLtZw,0.00932538850304,26,metro,0.00124114560514,144557,bus\r\n",
      "lj9PHKl7wKvQTHgFc08E-Q,0.00810527451293,18,metro,0.000620917490503,122234,bus\r\n",
      "FefB0Lp2Sz0RMZvtgbiuMw,0.0399521822149,64,metro,0.00103975551453,1700431,bus\r\n",
      "Hn9aFjT-Up_0AJ8ZuIWTBA,0.0118881764308,63,metro,0.000548920804847,112151,bus\r\n",
      "gas4eqbnp_dzdA3kith5XA,0.00440876444029,22,metro,0.000436643893816,125269,bus\r\n",
      "Ra8dwM6dGUQszCXiUDPf2A,0.0392406720571,21,metro,0.000753648784249,1701332,bus\r\n",
      "FRoFkp1YGqziKAk5HAj55w,0.0144190951089,63,metro,0.000865481808015,137023,bus\r\n",
      "\u001b[7mdata/closest_bus-metro_stops.csv\u001b[m\u001b[K"
     ]
    }
   ],
   "source": [
    "!less data/closest_bus-metro_stops.csv"
   ]
  },
  {
   "cell_type": "code",
   "execution_count": null,
   "metadata": {
    "collapsed": true
   },
   "outputs": [],
   "source": []
  }
 ],
 "metadata": {
  "hide_input": false,
  "kernelspec": {
   "display_name": "Python 2",
   "language": "python",
   "name": "python2"
  },
  "language_info": {
   "codemirror_mode": {
    "name": "ipython",
    "version": 2
   },
   "file_extension": ".py",
   "mimetype": "text/x-python",
   "name": "python",
   "nbconvert_exporter": "python",
   "pygments_lexer": "ipython2",
   "version": "2.7.6"
  }
 },
 "nbformat": 4,
 "nbformat_minor": 0
}
